{
 "cells": [
  {
   "cell_type": "markdown",
   "metadata": {},
   "source": [
    "# Kaggle team name: vijf5!\n",
    "\n",
    "# Members:\n",
    "1. Jesse Coenraad -> JesseCoenraad\n",
    "2. Jordan van Sintanneland -> JordanvanSint\n",
    "3. Casper Priem -> CasperPriem\n",
    "4. Jassar Hasiba -> UrClades"
   ]
  },
  {
   "cell_type": "markdown",
   "metadata": {},
   "source": [
    "## Imports"
   ]
  },
  {
   "cell_type": "code",
   "execution_count": 2,
   "metadata": {},
   "outputs": [],
   "source": [
    "import os\n",
    "import librosa as lr\n",
    "import numpy as np\n",
    "import pandas as pd\n",
    "import matplotlib.pyplot as plt\n",
    "from IPython.display import Audio\n",
    "import pandas as pd"
   ]
  },
  {
   "cell_type": "code",
   "execution_count": 3,
   "metadata": {},
   "outputs": [
    {
     "data": {
      "text/html": [
       "<div>\n",
       "<style scoped>\n",
       "    .dataframe tbody tr th:only-of-type {\n",
       "        vertical-align: middle;\n",
       "    }\n",
       "\n",
       "    .dataframe tbody tr th {\n",
       "        vertical-align: top;\n",
       "    }\n",
       "\n",
       "    .dataframe thead th {\n",
       "        text-align: right;\n",
       "    }\n",
       "</style>\n",
       "<table border=\"1\" class=\"dataframe\">\n",
       "  <thead>\n",
       "    <tr style=\"text-align: right;\">\n",
       "      <th></th>\n",
       "      <th>filename</th>\n",
       "      <th>genre</th>\n",
       "    </tr>\n",
       "  </thead>\n",
       "  <tbody>\n",
       "    <tr>\n",
       "      <th>0</th>\n",
       "      <td>m00248.wav</td>\n",
       "      <td>metal</td>\n",
       "    </tr>\n",
       "    <tr>\n",
       "      <th>1</th>\n",
       "      <td>m00230.wav</td>\n",
       "      <td>country</td>\n",
       "    </tr>\n",
       "    <tr>\n",
       "      <th>2</th>\n",
       "      <td>m00637.wav</td>\n",
       "      <td>hiphop</td>\n",
       "    </tr>\n",
       "    <tr>\n",
       "      <th>3</th>\n",
       "      <td>m00627.wav</td>\n",
       "      <td>metal</td>\n",
       "    </tr>\n",
       "    <tr>\n",
       "      <th>4</th>\n",
       "      <td>m00138.wav</td>\n",
       "      <td>reggae</td>\n",
       "    </tr>\n",
       "  </tbody>\n",
       "</table>\n",
       "</div>"
      ],
      "text/plain": [
       "     filename    genre\n",
       "0  m00248.wav    metal\n",
       "1  m00230.wav  country\n",
       "2  m00637.wav   hiphop\n",
       "3  m00627.wav    metal\n",
       "4  m00138.wav   reggae"
      ]
     },
     "execution_count": 3,
     "metadata": {},
     "output_type": "execute_result"
    }
   ],
   "source": [
    "labels = pd.read_csv('labels_new.csv')\n",
    "\n",
    "labels.head()"
   ]
  },
  {
   "cell_type": "code",
   "execution_count": 4,
   "metadata": {},
   "outputs": [
    {
     "data": {
      "text/plain": [
       "['metal',\n",
       " 'country',\n",
       " 'hiphop',\n",
       " 'reggae',\n",
       " 'classical',\n",
       " 'jazz',\n",
       " 'rock',\n",
       " 'pop',\n",
       " 'blues',\n",
       " 'disco']"
      ]
     },
     "execution_count": 4,
     "metadata": {},
     "output_type": "execute_result"
    }
   ],
   "source": [
    "#make a list object of unique genres in labels dataframe\n",
    "genres = list(labels['genre'].unique())\n",
    "genres\n"
   ]
  },
  {
   "cell_type": "markdown",
   "metadata": {},
   "source": [
    "# Feature engineering"
   ]
  },
  {
   "cell_type": "code",
   "execution_count": 19,
   "metadata": {},
   "outputs": [],
   "source": [
    "from pathlib import Path\n",
    "import os"
   ]
  },
  {
   "cell_type": "code",
   "execution_count": 20,
   "metadata": {},
   "outputs": [
    {
     "ename": "FileNotFoundError",
     "evalue": "[WinError 3] The system cannot find the path specified: 'Opdracht_3\\\\labeled\\\\m00248.wav'",
     "output_type": "error",
     "traceback": [
      "\u001b[1;31m---------------------------------------------------------------------------\u001b[0m",
      "\u001b[1;31mFileNotFoundError\u001b[0m                         Traceback (most recent call last)",
      "Cell \u001b[1;32mIn[20], line 14\u001b[0m\n\u001b[0;32m     12\u001b[0m \u001b[38;5;28;01mfor\u001b[39;00m label \u001b[38;5;129;01min\u001b[39;00m labels[\u001b[38;5;124m'\u001b[39m\u001b[38;5;124mfilename\u001b[39m\u001b[38;5;124m'\u001b[39m]:\n\u001b[0;32m     13\u001b[0m     sub_dir \u001b[38;5;241m=\u001b[39m os\u001b[38;5;241m.\u001b[39mpath\u001b[38;5;241m.\u001b[39mjoin(base_dir, label)\n\u001b[1;32m---> 14\u001b[0m     \u001b[38;5;28;01mfor\u001b[39;00m file \u001b[38;5;129;01min\u001b[39;00m os\u001b[38;5;241m.\u001b[39mlistdir(sub_dir):\n\u001b[0;32m     15\u001b[0m         \u001b[38;5;28;01mif\u001b[39;00m file\u001b[38;5;241m.\u001b[39mendswith(\u001b[38;5;124m\"\u001b[39m\u001b[38;5;124m.wav\u001b[39m\u001b[38;5;124m\"\u001b[39m):\n\u001b[0;32m     16\u001b[0m             file_path \u001b[38;5;241m=\u001b[39m os\u001b[38;5;241m.\u001b[39mpath\u001b[38;5;241m.\u001b[39mjoin(sub_dir, file)\n",
      "\u001b[1;31mFileNotFoundError\u001b[0m: [WinError 3] The system cannot find the path specified: 'Opdracht_3\\\\labeled\\\\m00248.wav'"
     ]
    }
   ],
   "source": [
    "# Define the base directory where the subdirectories \"cat\" and \"dog\" are located\n",
    "base_dir = 'Opdracht_3\\labeled'\n",
    "\n",
    "# Initialize lists for audio data and sample frequencies\n",
    "audio_data = []\n",
    "sample_freqs = []\n",
    "\n",
    "# Target length for 5 seconds at a sample rate of 16000 Hz (adjust if different)\n",
    "target_length = 5 * 16000\n",
    "\n",
    "# Process each audio file\n",
    "for label in labels['filename']:\n",
    "    sub_dir = os.path.join(base_dir, label)\n",
    "    for file in os.listdir(sub_dir):\n",
    "        if file.endswith(\".wav\"):\n",
    "            file_path = os.path.join(sub_dir, file)\n",
    "            data, sfreq = lr.load(file_path, sr=None)  # Keep original sample rate\n",
    "\n",
    "            # Truncate or pad the audio\n",
    "            if len(data) > target_length:\n",
    "                # Truncate the data\n",
    "                data = data[:target_length]\n",
    "            elif len(data) < target_length:\n",
    "                # Pad with zeros\n",
    "                padding = target_length - len(data)\n",
    "                data = np.pad(data, (0, padding), mode='constant')\n",
    "\n",
    "            # Append the processed data and sample frequency\n",
    "            audio_data.append(data)\n",
    "            sample_freqs.append(sfreq)\n",
    "\n",
    "# Convert to numpy array\n",
    "audio_data = np.stack(audio_data, axis=0)\n",
    "sample_freqs = np.array(sample_freqs)\n",
    "\n",
    "# Add audio data and sample frequencies to the labels dataframe\n",
    "labels['audio_data'] = list(audio_data)\n",
    "labels['sample_freqs'] = sample_freqs\n",
    "\n",
    "# Create the new dataframe labeled_audio\n",
    "labeled_audio = labels\n",
    "\n",
    "# Displaying a sample\n",
    "print(labeled_audio.head())"
   ]
  },
  {
   "cell_type": "markdown",
   "metadata": {},
   "source": []
  },
  {
   "cell_type": "markdown",
   "metadata": {},
   "source": [
    "# Unsupervised Learning"
   ]
  }
 ],
 "metadata": {
  "kernelspec": {
   "display_name": "base",
   "language": "python",
   "name": "python3"
  },
  "language_info": {
   "codemirror_mode": {
    "name": "ipython",
    "version": 3
   },
   "file_extension": ".py",
   "mimetype": "text/x-python",
   "name": "python",
   "nbconvert_exporter": "python",
   "pygments_lexer": "ipython3",
   "version": "3.11.5"
  }
 },
 "nbformat": 4,
 "nbformat_minor": 2
}
