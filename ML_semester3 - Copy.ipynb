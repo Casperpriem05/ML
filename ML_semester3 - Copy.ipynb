{
 "cells": [
  {
   "cell_type": "markdown",
   "metadata": {},
   "source": [
    "# Kaggle team name: vijf5!\n",
    "\n",
    "# Members:\n",
    "1. Jesse Coenraad -> JesseCoenraad\n",
    "2. Jordan van Sintanneland -> JordanvanSint\n",
    "3. Casper Priem -> CasperPriem\n",
    "4. Jassar Hasiba -> UrClades"
   ]
  },
  {
   "cell_type": "code",
   "execution_count": 1,
   "metadata": {},
   "outputs": [
    {
     "name": "stderr",
     "output_type": "stream",
     "text": [
      "C:\\Users\\jassa\\AppData\\Local\\Temp\\ipykernel_28996\\564799908.py:1: DeprecationWarning: \n",
      "Pyarrow will become a required dependency of pandas in the next major release of pandas (pandas 3.0),\n",
      "(to allow more performant data types, such as the Arrow string type, and better interoperability with other libraries)\n",
      "but was not found to be installed on your system.\n",
      "If this would cause problems for you,\n",
      "please provide us feedback at https://github.com/pandas-dev/pandas/issues/54466\n",
      "        \n",
      "  import pandas as pd\n"
     ]
    }
   ],
   "source": [
    "import pandas as pd\n",
    "import numpy as np\n",
    "import matplotlib.pyplot as plt\n",
    "import seaborn as sns\n",
    "import missingno as msno\n",
    "from sklearn.preprocessing import StandardScaler\n",
    "from scipy import stats"
   ]
  },
  {
   "cell_type": "markdown",
   "metadata": {},
   "source": [
    "# 1. Exploratieve Data Analyse (EDA)"
   ]
  },
  {
   "cell_type": "code",
   "execution_count": 2,
   "metadata": {},
   "outputs": [],
   "source": [
    "train = pd.read_csv('train.csv')\n",
    "test = pd.read_csv('test.csv')"
   ]
  },
  {
   "cell_type": "markdown",
   "metadata": {},
   "source": [
    "### 1.1 Uitleg van iedere kolom"
   ]
  },
  {
   "cell_type": "markdown",
   "metadata": {},
   "source": [
    "0: id: uniek id van het persoon\n",
    "\n",
    "1: age: leeftijd\n",
    "\n",
    "3: hypertension: hoge bloeddruk (0 is nee, 1 is ja)\n",
    "\n",
    "4: heart_disease: hart- en vaatziekten (0 is nee, 1 is ja)\n",
    "\n",
    "5: avg_glucose_level: gemiddeld glucoselevel gemeten in mmol/L\n",
    "\n",
    "6: bmi: bmi van de persoon \n",
    "\n",
    "7: gender_female: geslacht (True or False)\n",
    "\n",
    "8: Gender_other: People who identify as something other than male or female\n",
    "\n",
    "9: Every_married_no: geeft aan wie er niet getrouwd is.\n",
    "\n",
    "10: Every_married_yes: geeft aan wie er wel getrouwd is.\n",
    "\n",
    "11: Work_type_Govt_job: geeft aan wie er een baan heeft die te maken heeft met veiligheid van de bevolking.\n",
    "\n",
    "12: work_type_never_worked: mensen die nooit gewerkt hebben.\n",
    "\n",
    "13: work_type_private_work: mensen die privé werk doen.\n",
    "\n",
    "14: work_type_Self_employed: mensen die eigen baas zijn.\n",
    "\n",
    "15: work_type_children: kinderen tot 16 die werkzaam zijn.\n",
    "\n",
    "16: Residence_type_rural: heeft de person een huis in een landelijk gebied. (True or False)\n",
    "\n",
    "17: Residence_type_urban: heeft de persoon een huis in een stedelijk gebied. (True or False)\n",
    "\n",
    "18: Smoking_status_formerly smoked: heeft de person in het verleden gerookt.  (True or False)\n",
    "\n",
    "19: Smoking_status_never smoked: heeft de persoon ooit gerookt.  (True or False)\n",
    "\n",
    "20: Smoking_status_smokes: Rookt de persoon momenteel actief.  (True or False)\n",
    "\n",
    "21: Stroke: Heeft de persoon een beroerte gehad. (True or False)\n"
   ]
  },
  {
   "cell_type": "markdown",
   "metadata": {},
   "source": [
    "### 1.2 Beschrijf in hoeverre de data voldoet aan de minimale vereisten voor Machine Learning met Scikit Learn"
   ]
  },
  {
   "cell_type": "markdown",
   "metadata": {},
   "source": [
    "De data voldoet aan alle voorwaarde voor machine learning met Scikit learn.\n",
    "\n",
    "- Het zijn numerieke waardes\n",
    "- Er zijn geen missende waardes\n",
    "- Het staat in een dataframe"
   ]
  },
  {
   "cell_type": "code",
   "execution_count": 3,
   "metadata": {},
   "outputs": [
    {
     "data": {
      "text/html": [
       "<div>\n",
       "<style scoped>\n",
       "    .dataframe tbody tr th:only-of-type {\n",
       "        vertical-align: middle;\n",
       "    }\n",
       "\n",
       "    .dataframe tbody tr th {\n",
       "        vertical-align: top;\n",
       "    }\n",
       "\n",
       "    .dataframe thead th {\n",
       "        text-align: right;\n",
       "    }\n",
       "</style>\n",
       "<table border=\"1\" class=\"dataframe\">\n",
       "  <thead>\n",
       "    <tr style=\"text-align: right;\">\n",
       "      <th></th>\n",
       "      <th>id</th>\n",
       "      <th>age</th>\n",
       "      <th>hypertension</th>\n",
       "      <th>heart_disease</th>\n",
       "      <th>avg_glucose_level</th>\n",
       "      <th>bmi</th>\n",
       "      <th>gender_Female</th>\n",
       "      <th>gender_Male</th>\n",
       "      <th>gender_Other</th>\n",
       "      <th>ever_married_No</th>\n",
       "      <th>...</th>\n",
       "      <th>work_type_Never_worked</th>\n",
       "      <th>work_type_Private</th>\n",
       "      <th>work_type_Self-employed</th>\n",
       "      <th>work_type_children</th>\n",
       "      <th>Residence_type_Rural</th>\n",
       "      <th>Residence_type_Urban</th>\n",
       "      <th>smoking_status_formerly smoked</th>\n",
       "      <th>smoking_status_never smoked</th>\n",
       "      <th>smoking_status_smokes</th>\n",
       "      <th>stroke</th>\n",
       "    </tr>\n",
       "  </thead>\n",
       "  <tbody>\n",
       "    <tr>\n",
       "      <th>0</th>\n",
       "      <td>52709</td>\n",
       "      <td>30.0</td>\n",
       "      <td>0</td>\n",
       "      <td>0</td>\n",
       "      <td>63.60</td>\n",
       "      <td>33.3</td>\n",
       "      <td>False</td>\n",
       "      <td>True</td>\n",
       "      <td>False</td>\n",
       "      <td>True</td>\n",
       "      <td>...</td>\n",
       "      <td>False</td>\n",
       "      <td>True</td>\n",
       "      <td>False</td>\n",
       "      <td>False</td>\n",
       "      <td>True</td>\n",
       "      <td>False</td>\n",
       "      <td>False</td>\n",
       "      <td>False</td>\n",
       "      <td>True</td>\n",
       "      <td>0</td>\n",
       "    </tr>\n",
       "    <tr>\n",
       "      <th>1</th>\n",
       "      <td>72295</td>\n",
       "      <td>75.0</td>\n",
       "      <td>1</td>\n",
       "      <td>0</td>\n",
       "      <td>215.17</td>\n",
       "      <td>48.0</td>\n",
       "      <td>True</td>\n",
       "      <td>False</td>\n",
       "      <td>False</td>\n",
       "      <td>False</td>\n",
       "      <td>...</td>\n",
       "      <td>False</td>\n",
       "      <td>False</td>\n",
       "      <td>True</td>\n",
       "      <td>False</td>\n",
       "      <td>True</td>\n",
       "      <td>False</td>\n",
       "      <td>False</td>\n",
       "      <td>True</td>\n",
       "      <td>False</td>\n",
       "      <td>0</td>\n",
       "    </tr>\n",
       "    <tr>\n",
       "      <th>2</th>\n",
       "      <td>26451</td>\n",
       "      <td>15.0</td>\n",
       "      <td>0</td>\n",
       "      <td>0</td>\n",
       "      <td>135.22</td>\n",
       "      <td>19.0</td>\n",
       "      <td>False</td>\n",
       "      <td>True</td>\n",
       "      <td>False</td>\n",
       "      <td>True</td>\n",
       "      <td>...</td>\n",
       "      <td>False</td>\n",
       "      <td>True</td>\n",
       "      <td>False</td>\n",
       "      <td>False</td>\n",
       "      <td>True</td>\n",
       "      <td>False</td>\n",
       "      <td>False</td>\n",
       "      <td>True</td>\n",
       "      <td>False</td>\n",
       "      <td>0</td>\n",
       "    </tr>\n",
       "    <tr>\n",
       "      <th>3</th>\n",
       "      <td>65210</td>\n",
       "      <td>47.0</td>\n",
       "      <td>0</td>\n",
       "      <td>0</td>\n",
       "      <td>64.89</td>\n",
       "      <td>28.2</td>\n",
       "      <td>False</td>\n",
       "      <td>True</td>\n",
       "      <td>False</td>\n",
       "      <td>False</td>\n",
       "      <td>...</td>\n",
       "      <td>False</td>\n",
       "      <td>False</td>\n",
       "      <td>True</td>\n",
       "      <td>False</td>\n",
       "      <td>False</td>\n",
       "      <td>True</td>\n",
       "      <td>False</td>\n",
       "      <td>True</td>\n",
       "      <td>False</td>\n",
       "      <td>0</td>\n",
       "    </tr>\n",
       "    <tr>\n",
       "      <th>4</th>\n",
       "      <td>69299</td>\n",
       "      <td>49.0</td>\n",
       "      <td>0</td>\n",
       "      <td>0</td>\n",
       "      <td>222.34</td>\n",
       "      <td>28.8</td>\n",
       "      <td>False</td>\n",
       "      <td>True</td>\n",
       "      <td>False</td>\n",
       "      <td>False</td>\n",
       "      <td>...</td>\n",
       "      <td>False</td>\n",
       "      <td>False</td>\n",
       "      <td>True</td>\n",
       "      <td>False</td>\n",
       "      <td>True</td>\n",
       "      <td>False</td>\n",
       "      <td>True</td>\n",
       "      <td>False</td>\n",
       "      <td>False</td>\n",
       "      <td>0</td>\n",
       "    </tr>\n",
       "  </tbody>\n",
       "</table>\n",
       "<p>5 rows × 22 columns</p>\n",
       "</div>"
      ],
      "text/plain": [
       "      id   age  hypertension  heart_disease  avg_glucose_level   bmi  \\\n",
       "0  52709  30.0             0              0              63.60  33.3   \n",
       "1  72295  75.0             1              0             215.17  48.0   \n",
       "2  26451  15.0             0              0             135.22  19.0   \n",
       "3  65210  47.0             0              0              64.89  28.2   \n",
       "4  69299  49.0             0              0             222.34  28.8   \n",
       "\n",
       "   gender_Female  gender_Male  gender_Other  ever_married_No  ...  \\\n",
       "0          False         True         False             True  ...   \n",
       "1           True        False         False            False  ...   \n",
       "2          False         True         False             True  ...   \n",
       "3          False         True         False            False  ...   \n",
       "4          False         True         False            False  ...   \n",
       "\n",
       "   work_type_Never_worked  work_type_Private  work_type_Self-employed  \\\n",
       "0                   False               True                    False   \n",
       "1                   False              False                     True   \n",
       "2                   False               True                    False   \n",
       "3                   False              False                     True   \n",
       "4                   False              False                     True   \n",
       "\n",
       "   work_type_children  Residence_type_Rural  Residence_type_Urban  \\\n",
       "0               False                  True                 False   \n",
       "1               False                  True                 False   \n",
       "2               False                  True                 False   \n",
       "3               False                 False                  True   \n",
       "4               False                  True                 False   \n",
       "\n",
       "   smoking_status_formerly smoked  smoking_status_never smoked  \\\n",
       "0                           False                        False   \n",
       "1                           False                         True   \n",
       "2                           False                         True   \n",
       "3                           False                         True   \n",
       "4                            True                        False   \n",
       "\n",
       "   smoking_status_smokes  stroke  \n",
       "0                   True       0  \n",
       "1                  False       0  \n",
       "2                  False       0  \n",
       "3                  False       0  \n",
       "4                  False       0  \n",
       "\n",
       "[5 rows x 22 columns]"
      ]
     },
     "metadata": {},
     "output_type": "display_data"
    },
    {
     "name": "stdout",
     "output_type": "stream",
     "text": [
      "<class 'pandas.core.frame.DataFrame'>\n",
      "RangeIndex: 33550 entries, 0 to 33549\n",
      "Data columns (total 22 columns):\n",
      " #   Column                          Non-Null Count  Dtype  \n",
      "---  ------                          --------------  -----  \n",
      " 0   id                              33550 non-null  int64  \n",
      " 1   age                             33550 non-null  float64\n",
      " 2   hypertension                    33550 non-null  int64  \n",
      " 3   heart_disease                   33550 non-null  int64  \n",
      " 4   avg_glucose_level               33550 non-null  float64\n",
      " 5   bmi                             33550 non-null  float64\n",
      " 6   gender_Female                   33550 non-null  bool   \n",
      " 7   gender_Male                     33550 non-null  bool   \n",
      " 8   gender_Other                    33550 non-null  bool   \n",
      " 9   ever_married_No                 33550 non-null  bool   \n",
      " 10  ever_married_Yes                33550 non-null  bool   \n",
      " 11  work_type_Govt_job              33550 non-null  bool   \n",
      " 12  work_type_Never_worked          33550 non-null  bool   \n",
      " 13  work_type_Private               33550 non-null  bool   \n",
      " 14  work_type_Self-employed         33550 non-null  bool   \n",
      " 15  work_type_children              33550 non-null  bool   \n",
      " 16  Residence_type_Rural            33550 non-null  bool   \n",
      " 17  Residence_type_Urban            33550 non-null  bool   \n",
      " 18  smoking_status_formerly smoked  33550 non-null  bool   \n",
      " 19  smoking_status_never smoked     33550 non-null  bool   \n",
      " 20  smoking_status_smokes           33550 non-null  bool   \n",
      " 21  stroke                          33550 non-null  int64  \n",
      "dtypes: bool(15), float64(3), int64(4)\n",
      "memory usage: 2.3 MB\n"
     ]
    },
    {
     "data": {
      "text/plain": [
       "None"
      ]
     },
     "metadata": {},
     "output_type": "display_data"
    },
    {
     "data": {
      "text/html": [
       "<div>\n",
       "<style scoped>\n",
       "    .dataframe tbody tr th:only-of-type {\n",
       "        vertical-align: middle;\n",
       "    }\n",
       "\n",
       "    .dataframe tbody tr th {\n",
       "        vertical-align: top;\n",
       "    }\n",
       "\n",
       "    .dataframe thead th {\n",
       "        text-align: right;\n",
       "    }\n",
       "</style>\n",
       "<table border=\"1\" class=\"dataframe\">\n",
       "  <thead>\n",
       "    <tr style=\"text-align: right;\">\n",
       "      <th></th>\n",
       "      <th>id</th>\n",
       "      <th>age</th>\n",
       "      <th>hypertension</th>\n",
       "      <th>heart_disease</th>\n",
       "      <th>avg_glucose_level</th>\n",
       "      <th>bmi</th>\n",
       "      <th>stroke</th>\n",
       "    </tr>\n",
       "  </thead>\n",
       "  <tbody>\n",
       "    <tr>\n",
       "      <th>count</th>\n",
       "      <td>33550.000000</td>\n",
       "      <td>33550.000000</td>\n",
       "      <td>33550.000000</td>\n",
       "      <td>33550.000000</td>\n",
       "      <td>33550.000000</td>\n",
       "      <td>33550.000000</td>\n",
       "      <td>33550.000000</td>\n",
       "    </tr>\n",
       "    <tr>\n",
       "      <th>mean</th>\n",
       "      <td>36746.393353</td>\n",
       "      <td>41.815312</td>\n",
       "      <td>0.088137</td>\n",
       "      <td>0.043040</td>\n",
       "      <td>103.587081</td>\n",
       "      <td>28.601216</td>\n",
       "      <td>0.015410</td>\n",
       "    </tr>\n",
       "    <tr>\n",
       "      <th>std</th>\n",
       "      <td>20906.519131</td>\n",
       "      <td>22.477423</td>\n",
       "      <td>0.283498</td>\n",
       "      <td>0.202951</td>\n",
       "      <td>42.127396</td>\n",
       "      <td>7.782248</td>\n",
       "      <td>0.123178</td>\n",
       "    </tr>\n",
       "    <tr>\n",
       "      <th>min</th>\n",
       "      <td>1.000000</td>\n",
       "      <td>0.080000</td>\n",
       "      <td>0.000000</td>\n",
       "      <td>0.000000</td>\n",
       "      <td>55.010000</td>\n",
       "      <td>10.100000</td>\n",
       "      <td>0.000000</td>\n",
       "    </tr>\n",
       "    <tr>\n",
       "      <th>25%</th>\n",
       "      <td>18763.250000</td>\n",
       "      <td>24.000000</td>\n",
       "      <td>0.000000</td>\n",
       "      <td>0.000000</td>\n",
       "      <td>77.460000</td>\n",
       "      <td>23.300000</td>\n",
       "      <td>0.000000</td>\n",
       "    </tr>\n",
       "    <tr>\n",
       "      <th>50%</th>\n",
       "      <td>36862.000000</td>\n",
       "      <td>43.000000</td>\n",
       "      <td>0.000000</td>\n",
       "      <td>0.000000</td>\n",
       "      <td>91.320000</td>\n",
       "      <td>27.700000</td>\n",
       "      <td>0.000000</td>\n",
       "    </tr>\n",
       "    <tr>\n",
       "      <th>75%</th>\n",
       "      <td>54757.500000</td>\n",
       "      <td>59.000000</td>\n",
       "      <td>0.000000</td>\n",
       "      <td>0.000000</td>\n",
       "      <td>111.437500</td>\n",
       "      <td>32.800000</td>\n",
       "      <td>0.000000</td>\n",
       "    </tr>\n",
       "    <tr>\n",
       "      <th>max</th>\n",
       "      <td>72943.000000</td>\n",
       "      <td>82.000000</td>\n",
       "      <td>1.000000</td>\n",
       "      <td>1.000000</td>\n",
       "      <td>281.590000</td>\n",
       "      <td>97.600000</td>\n",
       "      <td>1.000000</td>\n",
       "    </tr>\n",
       "  </tbody>\n",
       "</table>\n",
       "</div>"
      ],
      "text/plain": [
       "                 id           age  hypertension  heart_disease  \\\n",
       "count  33550.000000  33550.000000  33550.000000   33550.000000   \n",
       "mean   36746.393353     41.815312      0.088137       0.043040   \n",
       "std    20906.519131     22.477423      0.283498       0.202951   \n",
       "min        1.000000      0.080000      0.000000       0.000000   \n",
       "25%    18763.250000     24.000000      0.000000       0.000000   \n",
       "50%    36862.000000     43.000000      0.000000       0.000000   \n",
       "75%    54757.500000     59.000000      0.000000       0.000000   \n",
       "max    72943.000000     82.000000      1.000000       1.000000   \n",
       "\n",
       "       avg_glucose_level           bmi        stroke  \n",
       "count       33550.000000  33550.000000  33550.000000  \n",
       "mean          103.587081     28.601216      0.015410  \n",
       "std            42.127396      7.782248      0.123178  \n",
       "min            55.010000     10.100000      0.000000  \n",
       "25%            77.460000     23.300000      0.000000  \n",
       "50%            91.320000     27.700000      0.000000  \n",
       "75%           111.437500     32.800000      0.000000  \n",
       "max           281.590000     97.600000      1.000000  "
      ]
     },
     "metadata": {},
     "output_type": "display_data"
    }
   ],
   "source": [
    "display(train.head())\n",
    "display(train.info())\n",
    "display(train.describe())"
   ]
  },
  {
   "cell_type": "code",
   "execution_count": null,
   "metadata": {},
   "outputs": [],
   "source": [
    "# Kijken of er missende data in de traindata zit\n",
    "msno.matrix(train)"
   ]
  },
  {
   "cell_type": "code",
   "execution_count": null,
   "metadata": {},
   "outputs": [],
   "source": [
    "# Kijken of er missende data in de testdata zit\n",
    "msno.matrix(test)"
   ]
  },
  {
   "cell_type": "markdown",
   "metadata": {},
   "source": [
    "### 1.2.1 maak de evenutele aanpassingen"
   ]
  },
  {
   "cell_type": "markdown",
   "metadata": {},
   "source": [
    "Booleans omzetten naar 0 en 1"
   ]
  },
  {
   "cell_type": "code",
   "execution_count": 6,
   "metadata": {},
   "outputs": [],
   "source": [
    "train = train.astype({col: int for col in train.columns if train[col].dtype == 'bool'})\n",
    "test = test.astype({col: int for col in test.columns if test[col].dtype == 'bool'})"
   ]
  },
  {
   "cell_type": "markdown",
   "metadata": {},
   "source": [
    "### 1.3 Onderzoek de relaties tussen de onafhankelijke variabelen enerzijds en de afhankelijke variabele anderzijds. Gebruik hierbij passende visualisaties"
   ]
  },
  {
   "cell_type": "markdown",
   "metadata": {},
   "source": [
    "We zien dat er tussen bepaalde kolommen een directe corrolatie is, bijvoorbeeld man en vrouw. Dit moet worden aangepast zodat er geen multicollineariteit is."
   ]
  },
  {
   "cell_type": "code",
   "execution_count": null,
   "metadata": {},
   "outputs": [],
   "source": [
    "plt.figure(figsize=(25, 18))\n",
    "sns.heatmap(train.corr(), annot=True)"
   ]
  },
  {
   "cell_type": "code",
   "execution_count": 8,
   "metadata": {},
   "outputs": [],
   "source": [
    "cat_cols = train.drop(['id', 'age', 'avg_glucose_level', 'bmi'], axis=1)\n",
    "num_cols = train[['age', 'avg_glucose_level', 'bmi']]"
   ]
  },
  {
   "cell_type": "code",
   "execution_count": null,
   "metadata": {},
   "outputs": [],
   "source": [
    "sns.pairplot(num_cols)\n",
    "plt.show()"
   ]
  },
  {
   "cell_type": "code",
   "execution_count": null,
   "metadata": {},
   "outputs": [],
   "source": [
    "for i in cat_cols:\n",
    "    train[i].value_counts().plot(kind='bar')\n",
    "    plt.show()"
   ]
  },
  {
   "cell_type": "code",
   "execution_count": null,
   "metadata": {},
   "outputs": [],
   "source": [
    "for i in num_cols:\n",
    "    sns.histplot(x=train[i])\n",
    "    plt.show()"
   ]
  },
  {
   "cell_type": "code",
   "execution_count": null,
   "metadata": {},
   "outputs": [],
   "source": [
    "for i in num_cols:\n",
    "    sns.boxplot(x=train[i])\n",
    "    plt.show()"
   ]
  },
  {
   "cell_type": "markdown",
   "metadata": {},
   "source": [
    "### 1.3.1 Omgaan met outliers"
   ]
  },
  {
   "cell_type": "markdown",
   "metadata": {},
   "source": [
    "bmi heeft extreme outliers die niet mogelijk zijn terwijl extreem hoge avg_glucose_level waardes wel mogelijk zijn.\n",
    "\n",
    "We bereken de Z-score en verwijderen hier dan de outliers"
   ]
  },
  {
   "cell_type": "code",
   "execution_count": 13,
   "metadata": {},
   "outputs": [],
   "source": [
    "bmi_col = train[['bmi']]   # bmi heeft extreme outliers die niet mogelijk zijn terwijl extreem hoge avg_glucose_level waardes wel mogelijk zijn\n",
    "z_scores = np.abs(stats.zscore(bmi_col))   # Z-scores berekenen\n",
    "outliers = np.where(z_scores > 3)   # Outliers vinden\n",
    "outliers_rows = bmi_col[(z_scores > 3).any(axis=1)]   # Rijen met outliers vinden\n",
    "train = train.drop(outliers_rows.index)  # Rijen met outliers verwijderen"
   ]
  },
  {
   "cell_type": "code",
   "execution_count": 14,
   "metadata": {},
   "outputs": [
    {
     "data": {
      "text/html": [
       "<div>\n",
       "<style scoped>\n",
       "    .dataframe tbody tr th:only-of-type {\n",
       "        vertical-align: middle;\n",
       "    }\n",
       "\n",
       "    .dataframe tbody tr th {\n",
       "        vertical-align: top;\n",
       "    }\n",
       "\n",
       "    .dataframe thead th {\n",
       "        text-align: right;\n",
       "    }\n",
       "</style>\n",
       "<table border=\"1\" class=\"dataframe\">\n",
       "  <thead>\n",
       "    <tr style=\"text-align: right;\">\n",
       "      <th></th>\n",
       "      <th>id</th>\n",
       "      <th>age</th>\n",
       "      <th>hypertension</th>\n",
       "      <th>heart_disease</th>\n",
       "      <th>avg_glucose_level</th>\n",
       "      <th>bmi</th>\n",
       "      <th>gender_Female</th>\n",
       "      <th>gender_Male</th>\n",
       "      <th>gender_Other</th>\n",
       "      <th>ever_married_No</th>\n",
       "      <th>...</th>\n",
       "      <th>work_type_Never_worked</th>\n",
       "      <th>work_type_Private</th>\n",
       "      <th>work_type_Self-employed</th>\n",
       "      <th>work_type_children</th>\n",
       "      <th>Residence_type_Rural</th>\n",
       "      <th>Residence_type_Urban</th>\n",
       "      <th>smoking_status_formerly smoked</th>\n",
       "      <th>smoking_status_never smoked</th>\n",
       "      <th>smoking_status_smokes</th>\n",
       "      <th>stroke</th>\n",
       "    </tr>\n",
       "  </thead>\n",
       "  <tbody>\n",
       "    <tr>\n",
       "      <th>0</th>\n",
       "      <td>52709</td>\n",
       "      <td>30.0</td>\n",
       "      <td>0</td>\n",
       "      <td>0</td>\n",
       "      <td>63.60</td>\n",
       "      <td>33.3</td>\n",
       "      <td>0</td>\n",
       "      <td>1</td>\n",
       "      <td>0</td>\n",
       "      <td>1</td>\n",
       "      <td>...</td>\n",
       "      <td>0</td>\n",
       "      <td>1</td>\n",
       "      <td>0</td>\n",
       "      <td>0</td>\n",
       "      <td>1</td>\n",
       "      <td>0</td>\n",
       "      <td>0</td>\n",
       "      <td>0</td>\n",
       "      <td>1</td>\n",
       "      <td>0</td>\n",
       "    </tr>\n",
       "    <tr>\n",
       "      <th>1</th>\n",
       "      <td>72295</td>\n",
       "      <td>75.0</td>\n",
       "      <td>1</td>\n",
       "      <td>0</td>\n",
       "      <td>215.17</td>\n",
       "      <td>48.0</td>\n",
       "      <td>1</td>\n",
       "      <td>0</td>\n",
       "      <td>0</td>\n",
       "      <td>0</td>\n",
       "      <td>...</td>\n",
       "      <td>0</td>\n",
       "      <td>0</td>\n",
       "      <td>1</td>\n",
       "      <td>0</td>\n",
       "      <td>1</td>\n",
       "      <td>0</td>\n",
       "      <td>0</td>\n",
       "      <td>1</td>\n",
       "      <td>0</td>\n",
       "      <td>0</td>\n",
       "    </tr>\n",
       "    <tr>\n",
       "      <th>2</th>\n",
       "      <td>26451</td>\n",
       "      <td>15.0</td>\n",
       "      <td>0</td>\n",
       "      <td>0</td>\n",
       "      <td>135.22</td>\n",
       "      <td>19.0</td>\n",
       "      <td>0</td>\n",
       "      <td>1</td>\n",
       "      <td>0</td>\n",
       "      <td>1</td>\n",
       "      <td>...</td>\n",
       "      <td>0</td>\n",
       "      <td>1</td>\n",
       "      <td>0</td>\n",
       "      <td>0</td>\n",
       "      <td>1</td>\n",
       "      <td>0</td>\n",
       "      <td>0</td>\n",
       "      <td>1</td>\n",
       "      <td>0</td>\n",
       "      <td>0</td>\n",
       "    </tr>\n",
       "    <tr>\n",
       "      <th>3</th>\n",
       "      <td>65210</td>\n",
       "      <td>47.0</td>\n",
       "      <td>0</td>\n",
       "      <td>0</td>\n",
       "      <td>64.89</td>\n",
       "      <td>28.2</td>\n",
       "      <td>0</td>\n",
       "      <td>1</td>\n",
       "      <td>0</td>\n",
       "      <td>0</td>\n",
       "      <td>...</td>\n",
       "      <td>0</td>\n",
       "      <td>0</td>\n",
       "      <td>1</td>\n",
       "      <td>0</td>\n",
       "      <td>0</td>\n",
       "      <td>1</td>\n",
       "      <td>0</td>\n",
       "      <td>1</td>\n",
       "      <td>0</td>\n",
       "      <td>0</td>\n",
       "    </tr>\n",
       "    <tr>\n",
       "      <th>4</th>\n",
       "      <td>69299</td>\n",
       "      <td>49.0</td>\n",
       "      <td>0</td>\n",
       "      <td>0</td>\n",
       "      <td>222.34</td>\n",
       "      <td>28.8</td>\n",
       "      <td>0</td>\n",
       "      <td>1</td>\n",
       "      <td>0</td>\n",
       "      <td>0</td>\n",
       "      <td>...</td>\n",
       "      <td>0</td>\n",
       "      <td>0</td>\n",
       "      <td>1</td>\n",
       "      <td>0</td>\n",
       "      <td>1</td>\n",
       "      <td>0</td>\n",
       "      <td>1</td>\n",
       "      <td>0</td>\n",
       "      <td>0</td>\n",
       "      <td>0</td>\n",
       "    </tr>\n",
       "    <tr>\n",
       "      <th>...</th>\n",
       "      <td>...</td>\n",
       "      <td>...</td>\n",
       "      <td>...</td>\n",
       "      <td>...</td>\n",
       "      <td>...</td>\n",
       "      <td>...</td>\n",
       "      <td>...</td>\n",
       "      <td>...</td>\n",
       "      <td>...</td>\n",
       "      <td>...</td>\n",
       "      <td>...</td>\n",
       "      <td>...</td>\n",
       "      <td>...</td>\n",
       "      <td>...</td>\n",
       "      <td>...</td>\n",
       "      <td>...</td>\n",
       "      <td>...</td>\n",
       "      <td>...</td>\n",
       "      <td>...</td>\n",
       "      <td>...</td>\n",
       "      <td>...</td>\n",
       "    </tr>\n",
       "    <tr>\n",
       "      <th>33545</th>\n",
       "      <td>71911</td>\n",
       "      <td>9.0</td>\n",
       "      <td>0</td>\n",
       "      <td>0</td>\n",
       "      <td>109.80</td>\n",
       "      <td>14.5</td>\n",
       "      <td>0</td>\n",
       "      <td>1</td>\n",
       "      <td>0</td>\n",
       "      <td>1</td>\n",
       "      <td>...</td>\n",
       "      <td>0</td>\n",
       "      <td>0</td>\n",
       "      <td>0</td>\n",
       "      <td>1</td>\n",
       "      <td>1</td>\n",
       "      <td>0</td>\n",
       "      <td>0</td>\n",
       "      <td>0</td>\n",
       "      <td>0</td>\n",
       "      <td>0</td>\n",
       "    </tr>\n",
       "    <tr>\n",
       "      <th>33546</th>\n",
       "      <td>19648</td>\n",
       "      <td>47.0</td>\n",
       "      <td>0</td>\n",
       "      <td>0</td>\n",
       "      <td>88.61</td>\n",
       "      <td>30.8</td>\n",
       "      <td>1</td>\n",
       "      <td>0</td>\n",
       "      <td>0</td>\n",
       "      <td>0</td>\n",
       "      <td>...</td>\n",
       "      <td>0</td>\n",
       "      <td>1</td>\n",
       "      <td>0</td>\n",
       "      <td>0</td>\n",
       "      <td>0</td>\n",
       "      <td>1</td>\n",
       "      <td>0</td>\n",
       "      <td>0</td>\n",
       "      <td>0</td>\n",
       "      <td>0</td>\n",
       "    </tr>\n",
       "    <tr>\n",
       "      <th>33547</th>\n",
       "      <td>35550</td>\n",
       "      <td>3.0</td>\n",
       "      <td>0</td>\n",
       "      <td>0</td>\n",
       "      <td>89.68</td>\n",
       "      <td>16.2</td>\n",
       "      <td>1</td>\n",
       "      <td>0</td>\n",
       "      <td>0</td>\n",
       "      <td>1</td>\n",
       "      <td>...</td>\n",
       "      <td>0</td>\n",
       "      <td>0</td>\n",
       "      <td>0</td>\n",
       "      <td>1</td>\n",
       "      <td>1</td>\n",
       "      <td>0</td>\n",
       "      <td>0</td>\n",
       "      <td>0</td>\n",
       "      <td>0</td>\n",
       "      <td>0</td>\n",
       "    </tr>\n",
       "    <tr>\n",
       "      <th>33548</th>\n",
       "      <td>65453</td>\n",
       "      <td>56.0</td>\n",
       "      <td>1</td>\n",
       "      <td>0</td>\n",
       "      <td>82.44</td>\n",
       "      <td>27.8</td>\n",
       "      <td>1</td>\n",
       "      <td>0</td>\n",
       "      <td>0</td>\n",
       "      <td>0</td>\n",
       "      <td>...</td>\n",
       "      <td>0</td>\n",
       "      <td>0</td>\n",
       "      <td>0</td>\n",
       "      <td>0</td>\n",
       "      <td>0</td>\n",
       "      <td>1</td>\n",
       "      <td>0</td>\n",
       "      <td>0</td>\n",
       "      <td>1</td>\n",
       "      <td>0</td>\n",
       "    </tr>\n",
       "    <tr>\n",
       "      <th>33549</th>\n",
       "      <td>2084</td>\n",
       "      <td>64.0</td>\n",
       "      <td>0</td>\n",
       "      <td>0</td>\n",
       "      <td>90.11</td>\n",
       "      <td>30.2</td>\n",
       "      <td>1</td>\n",
       "      <td>0</td>\n",
       "      <td>0</td>\n",
       "      <td>0</td>\n",
       "      <td>...</td>\n",
       "      <td>0</td>\n",
       "      <td>1</td>\n",
       "      <td>0</td>\n",
       "      <td>0</td>\n",
       "      <td>1</td>\n",
       "      <td>0</td>\n",
       "      <td>0</td>\n",
       "      <td>1</td>\n",
       "      <td>0</td>\n",
       "      <td>0</td>\n",
       "    </tr>\n",
       "  </tbody>\n",
       "</table>\n",
       "<p>33206 rows × 22 columns</p>\n",
       "</div>"
      ],
      "text/plain": [
       "          id   age  hypertension  heart_disease  avg_glucose_level   bmi  \\\n",
       "0      52709  30.0             0              0              63.60  33.3   \n",
       "1      72295  75.0             1              0             215.17  48.0   \n",
       "2      26451  15.0             0              0             135.22  19.0   \n",
       "3      65210  47.0             0              0              64.89  28.2   \n",
       "4      69299  49.0             0              0             222.34  28.8   \n",
       "...      ...   ...           ...            ...                ...   ...   \n",
       "33545  71911   9.0             0              0             109.80  14.5   \n",
       "33546  19648  47.0             0              0              88.61  30.8   \n",
       "33547  35550   3.0             0              0              89.68  16.2   \n",
       "33548  65453  56.0             1              0              82.44  27.8   \n",
       "33549   2084  64.0             0              0              90.11  30.2   \n",
       "\n",
       "       gender_Female  gender_Male  gender_Other  ever_married_No  ...  \\\n",
       "0                  0            1             0                1  ...   \n",
       "1                  1            0             0                0  ...   \n",
       "2                  0            1             0                1  ...   \n",
       "3                  0            1             0                0  ...   \n",
       "4                  0            1             0                0  ...   \n",
       "...              ...          ...           ...              ...  ...   \n",
       "33545              0            1             0                1  ...   \n",
       "33546              1            0             0                0  ...   \n",
       "33547              1            0             0                1  ...   \n",
       "33548              1            0             0                0  ...   \n",
       "33549              1            0             0                0  ...   \n",
       "\n",
       "       work_type_Never_worked  work_type_Private  work_type_Self-employed  \\\n",
       "0                           0                  1                        0   \n",
       "1                           0                  0                        1   \n",
       "2                           0                  1                        0   \n",
       "3                           0                  0                        1   \n",
       "4                           0                  0                        1   \n",
       "...                       ...                ...                      ...   \n",
       "33545                       0                  0                        0   \n",
       "33546                       0                  1                        0   \n",
       "33547                       0                  0                        0   \n",
       "33548                       0                  0                        0   \n",
       "33549                       0                  1                        0   \n",
       "\n",
       "       work_type_children  Residence_type_Rural  Residence_type_Urban  \\\n",
       "0                       0                     1                     0   \n",
       "1                       0                     1                     0   \n",
       "2                       0                     1                     0   \n",
       "3                       0                     0                     1   \n",
       "4                       0                     1                     0   \n",
       "...                   ...                   ...                   ...   \n",
       "33545                   1                     1                     0   \n",
       "33546                   0                     0                     1   \n",
       "33547                   1                     1                     0   \n",
       "33548                   0                     0                     1   \n",
       "33549                   0                     1                     0   \n",
       "\n",
       "       smoking_status_formerly smoked  smoking_status_never smoked  \\\n",
       "0                                   0                            0   \n",
       "1                                   0                            1   \n",
       "2                                   0                            1   \n",
       "3                                   0                            1   \n",
       "4                                   1                            0   \n",
       "...                               ...                          ...   \n",
       "33545                               0                            0   \n",
       "33546                               0                            0   \n",
       "33547                               0                            0   \n",
       "33548                               0                            0   \n",
       "33549                               0                            1   \n",
       "\n",
       "       smoking_status_smokes  stroke  \n",
       "0                          1       0  \n",
       "1                          0       0  \n",
       "2                          0       0  \n",
       "3                          0       0  \n",
       "4                          0       0  \n",
       "...                      ...     ...  \n",
       "33545                      0       0  \n",
       "33546                      0       0  \n",
       "33547                      0       0  \n",
       "33548                      1       0  \n",
       "33549                      0       0  \n",
       "\n",
       "[33206 rows x 22 columns]"
      ]
     },
     "execution_count": 14,
     "metadata": {},
     "output_type": "execute_result"
    }
   ],
   "source": [
    "train"
   ]
  },
  {
   "cell_type": "markdown",
   "metadata": {},
   "source": [
    "### 1.4 Beschrijf de belangrijkste bevindingen van de EDA"
   ]
  },
  {
   "cell_type": "markdown",
   "metadata": {},
   "source": [
    "We hebben gezien dat de dataset erg unbalanced is maar dat de dataset verder redelijk normaal is verdeeld. We hebben een paar zware outliers bij BMI gevonden en hoeveel deze misschien in werklijkheid wel kunnen zijn deze sterk genoeg om te verwijderen. Verder is er een probleem met multicollineariteit, er zullen hier rijen verwijderd worden."
   ]
  },
  {
   "cell_type": "markdown",
   "metadata": {},
   "source": [
    "### 1.5 Sommige regels en/of kolommen zijn soms niet relevant voor machine learning. Schoon de data op zodat alleen relevante regels resteren"
   ]
  },
  {
   "cell_type": "markdown",
   "metadata": {},
   "source": [
    "Zoals eerder gezegd worden de rijen die multicollineariteit veroorzaken verwijderd, ook de id kolom zal hier worden verwijderd.\n",
    "\n",
    "We verwijderen de 'gender_Male' en 'gender_Other' kolommen. 'gender_Male' omdat we dit samenvoegen met de 'gender_female' kolom en hier gender van maken. Hier is 1 dan vrouw en 0 man. 'gender_other' wordt verwijderd omdat hier te weinig datapunten in zijn namelijk maar 6 van de 33206. \n",
    "\n",
    "Verder worden 'ever_married_No' en 'Residence_type_Rural' ook verwijderd en worden de verglijkbare kolommen een ja of nee kolom."
   ]
  },
  {
   "cell_type": "code",
   "execution_count": 15,
   "metadata": {},
   "outputs": [],
   "source": [
    "\n",
    "train.drop(columns = ['gender_Male' , 'gender_Other' , 'ever_married_No' , 'Residence_type_Rural' , 'id'] , inplace = True) # Kolommen verwijderen die geen invloed hebben op de target\n",
    "train.rename(columns = {'gender_Female' : 'gender'} , inplace = True) # Kolom hernoemen, 1 = Female, 0= Male"
   ]
  },
  {
   "cell_type": "code",
   "execution_count": 16,
   "metadata": {},
   "outputs": [
    {
     "data": {
      "text/html": [
       "<div>\n",
       "<style scoped>\n",
       "    .dataframe tbody tr th:only-of-type {\n",
       "        vertical-align: middle;\n",
       "    }\n",
       "\n",
       "    .dataframe tbody tr th {\n",
       "        vertical-align: top;\n",
       "    }\n",
       "\n",
       "    .dataframe thead th {\n",
       "        text-align: right;\n",
       "    }\n",
       "</style>\n",
       "<table border=\"1\" class=\"dataframe\">\n",
       "  <thead>\n",
       "    <tr style=\"text-align: right;\">\n",
       "      <th></th>\n",
       "      <th>age</th>\n",
       "      <th>hypertension</th>\n",
       "      <th>heart_disease</th>\n",
       "      <th>avg_glucose_level</th>\n",
       "      <th>bmi</th>\n",
       "      <th>gender</th>\n",
       "      <th>ever_married_Yes</th>\n",
       "      <th>work_type_Govt_job</th>\n",
       "      <th>work_type_Never_worked</th>\n",
       "      <th>work_type_Private</th>\n",
       "      <th>work_type_Self-employed</th>\n",
       "      <th>work_type_children</th>\n",
       "      <th>Residence_type_Urban</th>\n",
       "      <th>smoking_status_formerly smoked</th>\n",
       "      <th>smoking_status_never smoked</th>\n",
       "      <th>smoking_status_smokes</th>\n",
       "      <th>stroke</th>\n",
       "    </tr>\n",
       "  </thead>\n",
       "  <tbody>\n",
       "    <tr>\n",
       "      <th>0</th>\n",
       "      <td>30.0</td>\n",
       "      <td>0</td>\n",
       "      <td>0</td>\n",
       "      <td>63.60</td>\n",
       "      <td>33.3</td>\n",
       "      <td>0</td>\n",
       "      <td>0</td>\n",
       "      <td>0</td>\n",
       "      <td>0</td>\n",
       "      <td>1</td>\n",
       "      <td>0</td>\n",
       "      <td>0</td>\n",
       "      <td>0</td>\n",
       "      <td>0</td>\n",
       "      <td>0</td>\n",
       "      <td>1</td>\n",
       "      <td>0</td>\n",
       "    </tr>\n",
       "    <tr>\n",
       "      <th>1</th>\n",
       "      <td>75.0</td>\n",
       "      <td>1</td>\n",
       "      <td>0</td>\n",
       "      <td>215.17</td>\n",
       "      <td>48.0</td>\n",
       "      <td>1</td>\n",
       "      <td>1</td>\n",
       "      <td>0</td>\n",
       "      <td>0</td>\n",
       "      <td>0</td>\n",
       "      <td>1</td>\n",
       "      <td>0</td>\n",
       "      <td>0</td>\n",
       "      <td>0</td>\n",
       "      <td>1</td>\n",
       "      <td>0</td>\n",
       "      <td>0</td>\n",
       "    </tr>\n",
       "    <tr>\n",
       "      <th>2</th>\n",
       "      <td>15.0</td>\n",
       "      <td>0</td>\n",
       "      <td>0</td>\n",
       "      <td>135.22</td>\n",
       "      <td>19.0</td>\n",
       "      <td>0</td>\n",
       "      <td>0</td>\n",
       "      <td>0</td>\n",
       "      <td>0</td>\n",
       "      <td>1</td>\n",
       "      <td>0</td>\n",
       "      <td>0</td>\n",
       "      <td>0</td>\n",
       "      <td>0</td>\n",
       "      <td>1</td>\n",
       "      <td>0</td>\n",
       "      <td>0</td>\n",
       "    </tr>\n",
       "    <tr>\n",
       "      <th>3</th>\n",
       "      <td>47.0</td>\n",
       "      <td>0</td>\n",
       "      <td>0</td>\n",
       "      <td>64.89</td>\n",
       "      <td>28.2</td>\n",
       "      <td>0</td>\n",
       "      <td>1</td>\n",
       "      <td>0</td>\n",
       "      <td>0</td>\n",
       "      <td>0</td>\n",
       "      <td>1</td>\n",
       "      <td>0</td>\n",
       "      <td>1</td>\n",
       "      <td>0</td>\n",
       "      <td>1</td>\n",
       "      <td>0</td>\n",
       "      <td>0</td>\n",
       "    </tr>\n",
       "    <tr>\n",
       "      <th>4</th>\n",
       "      <td>49.0</td>\n",
       "      <td>0</td>\n",
       "      <td>0</td>\n",
       "      <td>222.34</td>\n",
       "      <td>28.8</td>\n",
       "      <td>0</td>\n",
       "      <td>1</td>\n",
       "      <td>0</td>\n",
       "      <td>0</td>\n",
       "      <td>0</td>\n",
       "      <td>1</td>\n",
       "      <td>0</td>\n",
       "      <td>0</td>\n",
       "      <td>1</td>\n",
       "      <td>0</td>\n",
       "      <td>0</td>\n",
       "      <td>0</td>\n",
       "    </tr>\n",
       "    <tr>\n",
       "      <th>...</th>\n",
       "      <td>...</td>\n",
       "      <td>...</td>\n",
       "      <td>...</td>\n",
       "      <td>...</td>\n",
       "      <td>...</td>\n",
       "      <td>...</td>\n",
       "      <td>...</td>\n",
       "      <td>...</td>\n",
       "      <td>...</td>\n",
       "      <td>...</td>\n",
       "      <td>...</td>\n",
       "      <td>...</td>\n",
       "      <td>...</td>\n",
       "      <td>...</td>\n",
       "      <td>...</td>\n",
       "      <td>...</td>\n",
       "      <td>...</td>\n",
       "    </tr>\n",
       "    <tr>\n",
       "      <th>33545</th>\n",
       "      <td>9.0</td>\n",
       "      <td>0</td>\n",
       "      <td>0</td>\n",
       "      <td>109.80</td>\n",
       "      <td>14.5</td>\n",
       "      <td>0</td>\n",
       "      <td>0</td>\n",
       "      <td>0</td>\n",
       "      <td>0</td>\n",
       "      <td>0</td>\n",
       "      <td>0</td>\n",
       "      <td>1</td>\n",
       "      <td>0</td>\n",
       "      <td>0</td>\n",
       "      <td>0</td>\n",
       "      <td>0</td>\n",
       "      <td>0</td>\n",
       "    </tr>\n",
       "    <tr>\n",
       "      <th>33546</th>\n",
       "      <td>47.0</td>\n",
       "      <td>0</td>\n",
       "      <td>0</td>\n",
       "      <td>88.61</td>\n",
       "      <td>30.8</td>\n",
       "      <td>1</td>\n",
       "      <td>1</td>\n",
       "      <td>0</td>\n",
       "      <td>0</td>\n",
       "      <td>1</td>\n",
       "      <td>0</td>\n",
       "      <td>0</td>\n",
       "      <td>1</td>\n",
       "      <td>0</td>\n",
       "      <td>0</td>\n",
       "      <td>0</td>\n",
       "      <td>0</td>\n",
       "    </tr>\n",
       "    <tr>\n",
       "      <th>33547</th>\n",
       "      <td>3.0</td>\n",
       "      <td>0</td>\n",
       "      <td>0</td>\n",
       "      <td>89.68</td>\n",
       "      <td>16.2</td>\n",
       "      <td>1</td>\n",
       "      <td>0</td>\n",
       "      <td>0</td>\n",
       "      <td>0</td>\n",
       "      <td>0</td>\n",
       "      <td>0</td>\n",
       "      <td>1</td>\n",
       "      <td>0</td>\n",
       "      <td>0</td>\n",
       "      <td>0</td>\n",
       "      <td>0</td>\n",
       "      <td>0</td>\n",
       "    </tr>\n",
       "    <tr>\n",
       "      <th>33548</th>\n",
       "      <td>56.0</td>\n",
       "      <td>1</td>\n",
       "      <td>0</td>\n",
       "      <td>82.44</td>\n",
       "      <td>27.8</td>\n",
       "      <td>1</td>\n",
       "      <td>1</td>\n",
       "      <td>1</td>\n",
       "      <td>0</td>\n",
       "      <td>0</td>\n",
       "      <td>0</td>\n",
       "      <td>0</td>\n",
       "      <td>1</td>\n",
       "      <td>0</td>\n",
       "      <td>0</td>\n",
       "      <td>1</td>\n",
       "      <td>0</td>\n",
       "    </tr>\n",
       "    <tr>\n",
       "      <th>33549</th>\n",
       "      <td>64.0</td>\n",
       "      <td>0</td>\n",
       "      <td>0</td>\n",
       "      <td>90.11</td>\n",
       "      <td>30.2</td>\n",
       "      <td>1</td>\n",
       "      <td>1</td>\n",
       "      <td>0</td>\n",
       "      <td>0</td>\n",
       "      <td>1</td>\n",
       "      <td>0</td>\n",
       "      <td>0</td>\n",
       "      <td>0</td>\n",
       "      <td>0</td>\n",
       "      <td>1</td>\n",
       "      <td>0</td>\n",
       "      <td>0</td>\n",
       "    </tr>\n",
       "  </tbody>\n",
       "</table>\n",
       "<p>33206 rows × 17 columns</p>\n",
       "</div>"
      ],
      "text/plain": [
       "        age  hypertension  heart_disease  avg_glucose_level   bmi  gender  \\\n",
       "0      30.0             0              0              63.60  33.3       0   \n",
       "1      75.0             1              0             215.17  48.0       1   \n",
       "2      15.0             0              0             135.22  19.0       0   \n",
       "3      47.0             0              0              64.89  28.2       0   \n",
       "4      49.0             0              0             222.34  28.8       0   \n",
       "...     ...           ...            ...                ...   ...     ...   \n",
       "33545   9.0             0              0             109.80  14.5       0   \n",
       "33546  47.0             0              0              88.61  30.8       1   \n",
       "33547   3.0             0              0              89.68  16.2       1   \n",
       "33548  56.0             1              0              82.44  27.8       1   \n",
       "33549  64.0             0              0              90.11  30.2       1   \n",
       "\n",
       "       ever_married_Yes  work_type_Govt_job  work_type_Never_worked  \\\n",
       "0                     0                   0                       0   \n",
       "1                     1                   0                       0   \n",
       "2                     0                   0                       0   \n",
       "3                     1                   0                       0   \n",
       "4                     1                   0                       0   \n",
       "...                 ...                 ...                     ...   \n",
       "33545                 0                   0                       0   \n",
       "33546                 1                   0                       0   \n",
       "33547                 0                   0                       0   \n",
       "33548                 1                   1                       0   \n",
       "33549                 1                   0                       0   \n",
       "\n",
       "       work_type_Private  work_type_Self-employed  work_type_children  \\\n",
       "0                      1                        0                   0   \n",
       "1                      0                        1                   0   \n",
       "2                      1                        0                   0   \n",
       "3                      0                        1                   0   \n",
       "4                      0                        1                   0   \n",
       "...                  ...                      ...                 ...   \n",
       "33545                  0                        0                   1   \n",
       "33546                  1                        0                   0   \n",
       "33547                  0                        0                   1   \n",
       "33548                  0                        0                   0   \n",
       "33549                  1                        0                   0   \n",
       "\n",
       "       Residence_type_Urban  smoking_status_formerly smoked  \\\n",
       "0                         0                               0   \n",
       "1                         0                               0   \n",
       "2                         0                               0   \n",
       "3                         1                               0   \n",
       "4                         0                               1   \n",
       "...                     ...                             ...   \n",
       "33545                     0                               0   \n",
       "33546                     1                               0   \n",
       "33547                     0                               0   \n",
       "33548                     1                               0   \n",
       "33549                     0                               0   \n",
       "\n",
       "       smoking_status_never smoked  smoking_status_smokes  stroke  \n",
       "0                                0                      1       0  \n",
       "1                                1                      0       0  \n",
       "2                                1                      0       0  \n",
       "3                                1                      0       0  \n",
       "4                                0                      0       0  \n",
       "...                            ...                    ...     ...  \n",
       "33545                            0                      0       0  \n",
       "33546                            0                      0       0  \n",
       "33547                            0                      0       0  \n",
       "33548                            0                      1       0  \n",
       "33549                            1                      0       0  \n",
       "\n",
       "[33206 rows x 17 columns]"
      ]
     },
     "execution_count": 16,
     "metadata": {},
     "output_type": "execute_result"
    }
   ],
   "source": [
    "train"
   ]
  },
  {
   "cell_type": "code",
   "execution_count": 17,
   "metadata": {},
   "outputs": [],
   "source": [
    "test_data_ids = test['id']"
   ]
  },
  {
   "cell_type": "code",
   "execution_count": 18,
   "metadata": {},
   "outputs": [],
   "source": [
    "test.drop(columns = ['gender_Male' , 'gender_Other' , 'ever_married_No' , 'Residence_type_Rural' , 'id'] , inplace = True) # Kolommen verwijderen die geen invloed hebben op de target\n",
    "test.rename(columns = {'gender_Female' : 'gender'} , inplace = True) # Kolom hernoemen, 1 = Female, 0= Male"
   ]
  },
  {
   "cell_type": "markdown",
   "metadata": {},
   "source": [
    "### 1.6 Data sampling indien nodig"
   ]
  },
  {
   "cell_type": "markdown",
   "metadata": {},
   "source": [
    "## Smote"
   ]
  },
  {
   "cell_type": "markdown",
   "metadata": {},
   "source": [
    "Smote of Synthetic Minority Oversampling Technique is een vorm van oversamplen, dit werkt door synthetische data aan te maken op basis van de al bestaande data. Het probeert zo een unbalanced data set weer balanced te maken."
   ]
  },
  {
   "cell_type": "code",
   "execution_count": 19,
   "metadata": {},
   "outputs": [],
   "source": [
    "#from imblearn.over_sampling import SMOTE\n",
    "#\n",
    "#\n",
    "#X = train.drop(columns=['stroke'])\n",
    "#y = train['stroke']\n",
    "#\n",
    "#smote = SMOTE(random_state=42)\n",
    "#X_resampled, y_resampled = smote.fit_resample(X, y)\n",
    "#\n",
    "#print(y_resampled.value_counts())\n"
   ]
  },
  {
   "cell_type": "markdown",
   "metadata": {},
   "source": [
    "## ADASYN"
   ]
  },
  {
   "cell_type": "code",
   "execution_count": 20,
   "metadata": {},
   "outputs": [],
   "source": [
    "#from imblearn.over_sampling import ADASYN\n",
    "#\n",
    "#\n",
    "#X = train.drop(columns=['stroke'])\n",
    "#y = train['stroke']\n",
    "#\n",
    "#adasyn = ADASYN(random_state=42)\n",
    "#X_resampled, y_resampled = adasyn.fit_resample(X, y)\n",
    "#\n",
    "#print(y_resampled.value_counts())"
   ]
  },
  {
   "cell_type": "markdown",
   "metadata": {},
   "source": [
    "## Instance Hardness Threshold"
   ]
  },
  {
   "cell_type": "markdown",
   "metadata": {},
   "source": [
    "IHT is een undersampling techniek dat samples met een lage kans verwijderd uit de dataset.\n",
    "\n",
    "Dit werkt beter voor SVMs"
   ]
  },
  {
   "cell_type": "code",
   "execution_count": 21,
   "metadata": {},
   "outputs": [
    {
     "name": "stdout",
     "output_type": "stream",
     "text": [
      "stroke\n",
      "0    21711\n",
      "1      515\n",
      "Name: count, dtype: int64\n"
     ]
    }
   ],
   "source": [
    "from imblearn.under_sampling import InstanceHardnessThreshold\n",
    "\n",
    "\n",
    "X = train.drop(columns=['stroke'])\n",
    "y = train['stroke']\n",
    "\n",
    "iht = InstanceHardnessThreshold(random_state=42, n_jobs=-1)\n",
    "X_resampled, y_resampled = iht.fit_resample(X, y)\n",
    "\n",
    "print(y_resampled.value_counts())"
   ]
  },
  {
   "cell_type": "markdown",
   "metadata": {},
   "source": [
    "## RepeatedEditedNearestNeighbours"
   ]
  },
  {
   "cell_type": "code",
   "execution_count": 22,
   "metadata": {},
   "outputs": [],
   "source": [
    "#from imblearn.under_sampling import RepeatedEditedNearestNeighbours\n",
    "#\n",
    "#\n",
    "#X = train.drop(columns=['stroke'])\n",
    "#y = train['stroke']\n",
    "#\n",
    "#renn = RepeatedEditedNearestNeighbours(n_neighbors=19, kind_sel='all', n_jobs=-1)\n",
    "#X_resampled, y_resampled = renn.fit_resample(X, y)\n",
    "#\n",
    "#print(y_resampled.value_counts())"
   ]
  },
  {
   "cell_type": "code",
   "execution_count": 23,
   "metadata": {},
   "outputs": [
    {
     "data": {
      "text/html": [
       "<div>\n",
       "<style scoped>\n",
       "    .dataframe tbody tr th:only-of-type {\n",
       "        vertical-align: middle;\n",
       "    }\n",
       "\n",
       "    .dataframe tbody tr th {\n",
       "        vertical-align: top;\n",
       "    }\n",
       "\n",
       "    .dataframe thead th {\n",
       "        text-align: right;\n",
       "    }\n",
       "</style>\n",
       "<table border=\"1\" class=\"dataframe\">\n",
       "  <thead>\n",
       "    <tr style=\"text-align: right;\">\n",
       "      <th></th>\n",
       "      <th>age</th>\n",
       "      <th>hypertension</th>\n",
       "      <th>heart_disease</th>\n",
       "      <th>avg_glucose_level</th>\n",
       "      <th>bmi</th>\n",
       "      <th>gender</th>\n",
       "      <th>ever_married_Yes</th>\n",
       "      <th>work_type_Govt_job</th>\n",
       "      <th>work_type_Never_worked</th>\n",
       "      <th>work_type_Private</th>\n",
       "      <th>work_type_Self-employed</th>\n",
       "      <th>work_type_children</th>\n",
       "      <th>Residence_type_Urban</th>\n",
       "      <th>smoking_status_formerly smoked</th>\n",
       "      <th>smoking_status_never smoked</th>\n",
       "      <th>smoking_status_smokes</th>\n",
       "      <th>stroke</th>\n",
       "    </tr>\n",
       "  </thead>\n",
       "  <tbody>\n",
       "    <tr>\n",
       "      <th>count</th>\n",
       "      <td>22226.000000</td>\n",
       "      <td>22226.000000</td>\n",
       "      <td>22226.000000</td>\n",
       "      <td>22226.000000</td>\n",
       "      <td>22226.000000</td>\n",
       "      <td>22226.000000</td>\n",
       "      <td>22226.000000</td>\n",
       "      <td>22226.000000</td>\n",
       "      <td>22226.000000</td>\n",
       "      <td>22226.000000</td>\n",
       "      <td>22226.000000</td>\n",
       "      <td>22226.000000</td>\n",
       "      <td>22226.000000</td>\n",
       "      <td>22226.000000</td>\n",
       "      <td>22226.000000</td>\n",
       "      <td>22226.000000</td>\n",
       "      <td>22226.000000</td>\n",
       "    </tr>\n",
       "    <tr>\n",
       "      <th>mean</th>\n",
       "      <td>32.554551</td>\n",
       "      <td>0.031720</td>\n",
       "      <td>0.008908</td>\n",
       "      <td>95.725841</td>\n",
       "      <td>27.175772</td>\n",
       "      <td>0.612661</td>\n",
       "      <td>0.517682</td>\n",
       "      <td>0.108567</td>\n",
       "      <td>0.006029</td>\n",
       "      <td>0.581436</td>\n",
       "      <td>0.088770</td>\n",
       "      <td>0.215198</td>\n",
       "      <td>0.490282</td>\n",
       "      <td>0.121209</td>\n",
       "      <td>0.375596</td>\n",
       "      <td>0.134122</td>\n",
       "      <td>0.023171</td>\n",
       "    </tr>\n",
       "    <tr>\n",
       "      <th>std</th>\n",
       "      <td>19.616482</td>\n",
       "      <td>0.175257</td>\n",
       "      <td>0.093966</td>\n",
       "      <td>30.514191</td>\n",
       "      <td>7.174589</td>\n",
       "      <td>0.487153</td>\n",
       "      <td>0.499698</td>\n",
       "      <td>0.311102</td>\n",
       "      <td>0.077414</td>\n",
       "      <td>0.493335</td>\n",
       "      <td>0.284418</td>\n",
       "      <td>0.410969</td>\n",
       "      <td>0.499917</td>\n",
       "      <td>0.326378</td>\n",
       "      <td>0.484287</td>\n",
       "      <td>0.340791</td>\n",
       "      <td>0.150450</td>\n",
       "    </tr>\n",
       "    <tr>\n",
       "      <th>min</th>\n",
       "      <td>0.080000</td>\n",
       "      <td>0.000000</td>\n",
       "      <td>0.000000</td>\n",
       "      <td>55.010000</td>\n",
       "      <td>10.300000</td>\n",
       "      <td>0.000000</td>\n",
       "      <td>0.000000</td>\n",
       "      <td>0.000000</td>\n",
       "      <td>0.000000</td>\n",
       "      <td>0.000000</td>\n",
       "      <td>0.000000</td>\n",
       "      <td>0.000000</td>\n",
       "      <td>0.000000</td>\n",
       "      <td>0.000000</td>\n",
       "      <td>0.000000</td>\n",
       "      <td>0.000000</td>\n",
       "      <td>0.000000</td>\n",
       "    </tr>\n",
       "    <tr>\n",
       "      <th>25%</th>\n",
       "      <td>17.000000</td>\n",
       "      <td>0.000000</td>\n",
       "      <td>0.000000</td>\n",
       "      <td>77.062500</td>\n",
       "      <td>22.000000</td>\n",
       "      <td>0.000000</td>\n",
       "      <td>0.000000</td>\n",
       "      <td>0.000000</td>\n",
       "      <td>0.000000</td>\n",
       "      <td>0.000000</td>\n",
       "      <td>0.000000</td>\n",
       "      <td>0.000000</td>\n",
       "      <td>0.000000</td>\n",
       "      <td>0.000000</td>\n",
       "      <td>0.000000</td>\n",
       "      <td>0.000000</td>\n",
       "      <td>0.000000</td>\n",
       "    </tr>\n",
       "    <tr>\n",
       "      <th>50%</th>\n",
       "      <td>32.000000</td>\n",
       "      <td>0.000000</td>\n",
       "      <td>0.000000</td>\n",
       "      <td>89.595000</td>\n",
       "      <td>26.500000</td>\n",
       "      <td>1.000000</td>\n",
       "      <td>1.000000</td>\n",
       "      <td>0.000000</td>\n",
       "      <td>0.000000</td>\n",
       "      <td>1.000000</td>\n",
       "      <td>0.000000</td>\n",
       "      <td>0.000000</td>\n",
       "      <td>0.000000</td>\n",
       "      <td>0.000000</td>\n",
       "      <td>0.000000</td>\n",
       "      <td>0.000000</td>\n",
       "      <td>0.000000</td>\n",
       "    </tr>\n",
       "    <tr>\n",
       "      <th>75%</th>\n",
       "      <td>47.000000</td>\n",
       "      <td>0.000000</td>\n",
       "      <td>0.000000</td>\n",
       "      <td>105.520000</td>\n",
       "      <td>31.600000</td>\n",
       "      <td>1.000000</td>\n",
       "      <td>1.000000</td>\n",
       "      <td>0.000000</td>\n",
       "      <td>0.000000</td>\n",
       "      <td>1.000000</td>\n",
       "      <td>0.000000</td>\n",
       "      <td>0.000000</td>\n",
       "      <td>1.000000</td>\n",
       "      <td>0.000000</td>\n",
       "      <td>1.000000</td>\n",
       "      <td>0.000000</td>\n",
       "      <td>0.000000</td>\n",
       "    </tr>\n",
       "    <tr>\n",
       "      <th>max</th>\n",
       "      <td>82.000000</td>\n",
       "      <td>1.000000</td>\n",
       "      <td>1.000000</td>\n",
       "      <td>278.560000</td>\n",
       "      <td>51.900000</td>\n",
       "      <td>1.000000</td>\n",
       "      <td>1.000000</td>\n",
       "      <td>1.000000</td>\n",
       "      <td>1.000000</td>\n",
       "      <td>1.000000</td>\n",
       "      <td>1.000000</td>\n",
       "      <td>1.000000</td>\n",
       "      <td>1.000000</td>\n",
       "      <td>1.000000</td>\n",
       "      <td>1.000000</td>\n",
       "      <td>1.000000</td>\n",
       "      <td>1.000000</td>\n",
       "    </tr>\n",
       "  </tbody>\n",
       "</table>\n",
       "</div>"
      ],
      "text/plain": [
       "                age  hypertension  heart_disease  avg_glucose_level  \\\n",
       "count  22226.000000  22226.000000   22226.000000       22226.000000   \n",
       "mean      32.554551      0.031720       0.008908          95.725841   \n",
       "std       19.616482      0.175257       0.093966          30.514191   \n",
       "min        0.080000      0.000000       0.000000          55.010000   \n",
       "25%       17.000000      0.000000       0.000000          77.062500   \n",
       "50%       32.000000      0.000000       0.000000          89.595000   \n",
       "75%       47.000000      0.000000       0.000000         105.520000   \n",
       "max       82.000000      1.000000       1.000000         278.560000   \n",
       "\n",
       "                bmi        gender  ever_married_Yes  work_type_Govt_job  \\\n",
       "count  22226.000000  22226.000000      22226.000000        22226.000000   \n",
       "mean      27.175772      0.612661          0.517682            0.108567   \n",
       "std        7.174589      0.487153          0.499698            0.311102   \n",
       "min       10.300000      0.000000          0.000000            0.000000   \n",
       "25%       22.000000      0.000000          0.000000            0.000000   \n",
       "50%       26.500000      1.000000          1.000000            0.000000   \n",
       "75%       31.600000      1.000000          1.000000            0.000000   \n",
       "max       51.900000      1.000000          1.000000            1.000000   \n",
       "\n",
       "       work_type_Never_worked  work_type_Private  work_type_Self-employed  \\\n",
       "count            22226.000000       22226.000000             22226.000000   \n",
       "mean                 0.006029           0.581436                 0.088770   \n",
       "std                  0.077414           0.493335                 0.284418   \n",
       "min                  0.000000           0.000000                 0.000000   \n",
       "25%                  0.000000           0.000000                 0.000000   \n",
       "50%                  0.000000           1.000000                 0.000000   \n",
       "75%                  0.000000           1.000000                 0.000000   \n",
       "max                  1.000000           1.000000                 1.000000   \n",
       "\n",
       "       work_type_children  Residence_type_Urban  \\\n",
       "count        22226.000000          22226.000000   \n",
       "mean             0.215198              0.490282   \n",
       "std              0.410969              0.499917   \n",
       "min              0.000000              0.000000   \n",
       "25%              0.000000              0.000000   \n",
       "50%              0.000000              0.000000   \n",
       "75%              0.000000              1.000000   \n",
       "max              1.000000              1.000000   \n",
       "\n",
       "       smoking_status_formerly smoked  smoking_status_never smoked  \\\n",
       "count                    22226.000000                 22226.000000   \n",
       "mean                         0.121209                     0.375596   \n",
       "std                          0.326378                     0.484287   \n",
       "min                          0.000000                     0.000000   \n",
       "25%                          0.000000                     0.000000   \n",
       "50%                          0.000000                     0.000000   \n",
       "75%                          0.000000                     1.000000   \n",
       "max                          1.000000                     1.000000   \n",
       "\n",
       "       smoking_status_smokes        stroke  \n",
       "count           22226.000000  22226.000000  \n",
       "mean                0.134122      0.023171  \n",
       "std                 0.340791      0.150450  \n",
       "min                 0.000000      0.000000  \n",
       "25%                 0.000000      0.000000  \n",
       "50%                 0.000000      0.000000  \n",
       "75%                 0.000000      0.000000  \n",
       "max                 1.000000      1.000000  "
      ]
     },
     "execution_count": 23,
     "metadata": {},
     "output_type": "execute_result"
    }
   ],
   "source": [
    "resampled_train = pd.DataFrame(X_resampled, columns=X.columns)\n",
    "resampled_train['stroke'] = y_resampled\n",
    "resampled_train.describe()\n"
   ]
  },
  {
   "cell_type": "markdown",
   "metadata": {},
   "source": [
    "### 1.7 Beschrijf wat wordt bedoeld met het standaardiseren van de data. Geef aan in welke gevallen dit gewenst is. Beargumenteer of het waarde toevoegt voor deze dataset en voer eventueel standaardisatie uit"
   ]
  },
  {
   "cell_type": "markdown",
   "metadata": {},
   "source": [
    "Standaardiseren van de data zorgt ervoor dat de schaal overal gelijk is. Dit zorgt ervoor dat een kolom met een andere schaal niet veel te veel of veel te weinig invloed heeft op het model. Dit is vooral belangrijk voor afstandgebasseerde algoritmes zoals k-NN en SVM die we hier gebruiken. Voor Tree gebaseerde modellen of categorische variabelen is dit vaak niet nodig."
   ]
  },
  {
   "cell_type": "code",
   "execution_count": 24,
   "metadata": {},
   "outputs": [],
   "source": [
    "sc = StandardScaler()\n",
    "\n",
    "X_resampled = sc.fit_transform(X_resampled) "
   ]
  },
  {
   "cell_type": "markdown",
   "metadata": {},
   "source": [
    "Test set aanpassen"
   ]
  },
  {
   "cell_type": "code",
   "execution_count": 25,
   "metadata": {},
   "outputs": [],
   "source": [
    "test = sc.fit_transform(test) "
   ]
  },
  {
   "cell_type": "markdown",
   "metadata": {},
   "source": [
    "# 2. Evaluatie"
   ]
  },
  {
   "cell_type": "markdown",
   "metadata": {},
   "source": [
    "### 2.1 Geef aan met welke “metrics”, voor deze vorm van machine learning, bepaalt kan worden hoe goed een model presteert. Toon de uitkomsten op deze metrics aan de hand van een zelf te kiezen machine learning algoritme"
   ]
  },
  {
   "cell_type": "markdown",
   "metadata": {},
   "source": [
    "Metrics: f1, recall, precision, accuracy"
   ]
  },
  {
   "cell_type": "code",
   "execution_count": 33,
   "metadata": {},
   "outputs": [
    {
     "name": "stdout",
     "output_type": "stream",
     "text": [
      "F1 score: 0.5819672131147541\n",
      "              precision    recall  f1-score   support\n",
      "\n",
      "           0       0.99      1.00      0.99      6519\n",
      "           1       0.75      0.48      0.58       149\n",
      "\n",
      "    accuracy                           0.98      6668\n",
      "   macro avg       0.87      0.74      0.79      6668\n",
      "weighted avg       0.98      0.98      0.98      6668\n",
      "\n"
     ]
    }
   ],
   "source": [
    "# Import train_test_split function\n",
    "from sklearn.model_selection import train_test_split\n",
    "from sklearn.metrics import classification_report\n",
    "from sklearn import svm\n",
    "\n",
    "# Split dataset into training set and test set\n",
    "X_train, X_test, y_train, y_test = train_test_split(X_resampled, y_resampled, test_size=0.3,random_state=42) # 70% training and 30% test\n",
    "\n",
    "#Create a svm Classifier\n",
    "clf = svm.SVC(kernel='rbf', C=100)\n",
    "\n",
    "#Train the model using the training sets\n",
    "clf.fit(X_train, y_train)\n",
    "\n",
    "#Predict the response for test dataset\n",
    "y_pred = clf.predict(X_test)\n",
    "\n",
    "#Import scikit-learn metrics module for accuracy calculation\n",
    "from sklearn import metrics\n",
    "\n",
    "# Model Accuracy: how often is the classifier correct?\n",
    "print(\"F1 score:\",metrics.f1_score(y_test, y_pred))\n",
    "\n",
    "print(classification_report(y_test, y_pred))"
   ]
  },
  {
   "cell_type": "markdown",
   "metadata": {},
   "source": [
    "### 2.2 Leg uit hoe iedere metric wordt berekend. Gebruik hierbij een confusion matrix"
   ]
  },
  {
   "cell_type": "code",
   "execution_count": 39,
   "metadata": {},
   "outputs": [
    {
     "data": {
      "image/png": "[encoded data removed]",
      "text/plain": [
       "<Figure size 640x480 with 2 Axes>"
      ]
     },
     "metadata": {},
     "output_type": "display_data"
    }
   ],
   "source": [
    "from sklearn.metrics import confusion_matrix\n",
    "\n",
    "confusion_matrix = confusion_matrix(y_test, y_pred)\n",
    "\n",
    "cm_display = metrics.ConfusionMatrixDisplay(confusion_matrix= confusion_matrix, display_labels= [0,1])\n",
    "\n",
    "cm_display.plot()\n",
    "plt.show()"
   ]
  },
  {
   "cell_type": "markdown",
   "metadata": {},
   "source": [
    "accuracy = ((True Positive + True Negative) / Total Predictions)\n",
    "\n",
    "Precision = True Positive / (True Positive + False Positive)\n",
    "\n",
    "Recall = True Positive / (True Positive + False Negative)\n",
    "\n",
    "f1 = True Negative / (True Negative + False Positive)"
   ]
  },
  {
   "cell_type": "markdown",
   "metadata": {},
   "source": [
    "### 2.3 In de Kaggle competitie zie je dat er is gekozen voor de f1-score om te beoordelen hoe goed een model presteert. Leg uit waarom f1-score voor dit vraagstuk de beste maatstaf is"
   ]
  },
  {
   "cell_type": "markdown",
   "metadata": {},
   "source": [
    "De F1 score wordt gebruikt als je zowel hoge precision als recall wilt hebben. Accuracy meet ook hoeveel er correct predict zijn, echter werkt dit alleen goed met balanced data sets. Precision meet hoeveel positieve predictions correct zijn en recall meet hoeveel van de aanwezige positieve class samples correct zijn geindentificeerd.\n",
    "\n",
    "De ene metric komt dus te koste van de ander. De F1 score combineerd deze, hierdoor heb je minder last van de unbalanced dataset en kan je je model efficient optimaliseren."
   ]
  },
  {
   "cell_type": "markdown",
   "metadata": {},
   "source": [
    "# 3. Modelleren en uitleg modellen"
   ]
  },
  {
   "cell_type": "markdown",
   "metadata": {},
   "source": [
    "Pas cross-validation en hyperparameter tuning toe op ieder model.\n",
    "\n",
    "Als je de beste hyperparameters voor een model hebt gevonden dan pas je het model met die hyperparameters toe op test.csv. De voorspellingen upload je op Kaggle om te zien hoe goed een model presteert.\n",
    "\n",
    "De dataset is een “imbalanced dataset”. Leg uit waarom dit zo is. Er zijn meerdere technieken waarmee je voorspellingen voor zo’n dataset kunt verbeteren. Zonder toepassingvan deze technieken zullen je voorspellingen erg slecht zijn. Pas voor alle modellen ensembles minimaal 2 van deze technieken toe en leg uit hoe iedere techniek werk"
   ]
  },
  {
   "cell_type": "markdown",
   "metadata": {},
   "source": [
    "## 3.1 KNN"
   ]
  },
  {
   "cell_type": "code",
   "execution_count": 91,
   "metadata": {},
   "outputs": [],
   "source": [
    "from sklearn.preprocessing import RobustScaler\n",
    "from imblearn.over_sampling import ADASYN\n",
    "from sklearn.model_selection import train_test_split, GridSearchCV, StratifiedKFold\n",
    "from sklearn.neighbors import KNeighborsClassifier\n",
    "from sklearn.metrics import f1_score, classification_report, confusion_matrix, precision_recall_curve\n",
    "\n",
    "test = pd.read_csv('test.csv') \n",
    "train = pd.read_csv('train.csv')\n",
    "\n",
    "\n",
    "bmi_col = train[['bmi']]\n",
    "z_scores = np.abs(stats.zscore(bmi_col))\n",
    "outliers = np.where(z_scores > 3)\n",
    "outliers_rows = bmi_col[(z_scores > 3).any(axis=1)]\n",
    "train = train.drop(outliers_rows.index)\n",
    "\n",
    "\n",
    "X = train.drop(columns=['stroke', 'id'])\n",
    "y = train['stroke']\n",
    "\n",
    "\n",
    "oversample = ADASYN()\n",
    "X_resampled, y_resampled = oversample.fit_resample(X, y)\n",
    "\n",
    "sc = RobustScaler()\n",
    "X_resampled = sc.fit_transform(X_resampled)\n",
    "X_train, X_val, y_train, y_val = train_test_split(X_resampled, y_resampled, test_size=0.3, random_state=42)\n",
    "\n",
    "\n",
    "knn = KNeighborsClassifier()\n",
    "param_grid = {\n",
    "    'n_neighbors': [1, 3, 5, 7, 9, 11, 15, 19, 21],\n",
    "    'weights': ['uniform', 'distance'],\n",
    "    'metric': ['euclidean', 'manhattan', 'minkowski'],\n",
    "    'p': [1, 2, 3]\n",
    "}\n",
    "\n",
    "\n",
    "cv = StratifiedKFold(n_splits=5, shuffle=True, random_state=42)\n",
    "grid_search = GridSearchCV(knn, param_grid, scoring='f1', cv=cv, n_jobs=-1)\n",
    "grid_search.fit(X_train, y_train)\n",
    "\n",
    "\n",
    "best_knn = grid_search.best_estimator_\n",
    "print(\"Best Parameters:\", grid_search.best_params_)\n",
    "\n",
    "y_prob = best_knn.predict_proba(X_val)[:, 1]\n",
    "y_pred_custom_threshold = (y_prob >= 0.2).astype(int)\n",
    "print(\"F1 Score\", f1_score(y_val, y_pred_custom_threshold))\n",
    "print(\"Classification Report:\\n\", classification_report(y_val, y_pred_custom_threshold))\n",
    "\n",
    "\n",
    "test_features = test.drop(columns=['id'])\n",
    "test_features = sc.transform(test_features)\n",
    "test_prob = best_knn.predict_proba(test_features)[:, 1]\n",
    "\n",
    "test_predictions = (test_prob >= 0.2).astype(int)\n",
    "submission = pd.DataFrame({'id': test['id'], 'stroke': test_predictions})\n",
    "\n",
    "submission.to_csv('KNN_pred_12.csv', index=False)"
   ]
  },
  {
   "cell_type": "markdown",
   "metadata": {},
   "source": [
    "Kleine toelichting:\n",
    "-   Functie predict_proba() \n",
    "    -   gebruikt om de waarschijnlijkheid voor stroke == 1 te verlagen naar 0.2, hierdoor krijgt een patient de classificatie stroke = 1 zodra de 'Probability' groter of gelijk is aan 20%, handmatig getest dat 0.2 het beste werkt op Kaggle. Ookal heeft 0.7 een hogere f1 score op de train set.\n",
    "- ADASYN \n",
    "  - ADASYN genereert synthetische voorbeelden voor stroke = 1, het kijkt naar de minderheidsklasse (stroke = 1) en creeert nieuwe punten door de bestaande (stroke = 1) patienten te combineren met hun Neighbors --> nieuwe vergelijkbare punten onstaan tot dat er evenveel '1' waarden zijn dan '0' waarden in de kolom 'stroke'\n"
   ]
  },
  {
   "cell_type": "markdown",
   "metadata": {},
   "source": [
    "#### 3.1.1 Leg uit hoe model werkt. Gebruik daarin onder andere termen “afstand”, “euclidean” en “manhattan"
   ]
  },
  {
   "attachments": {
    "image.png": {
     "image/png": "[encoded data removed]"
    }
   },
   "cell_type": "markdown",
   "metadata": {},
   "source": [
    "K-Nearest Neighbours (KNN) is een simpel algoritme die te gebruiken is voor classificatie en regressie problemen. Het werkt door de \"K\" nearest datapoints(Neighbors) voor een nieuwe punt te indentificeren op basis van een 'Afstand' hierover meer later. Een voorspelling word gedaan met gebruik van een meerderheidslabel (classification) of het gemiddelde (regression) van deze Neighbours.\n",
    "\n",
    "Bij het gebruik van een KNN model is de afstand heel belangrijk en ook het aantal Neighbors omdat dit invloed kan hebben op de 'Fitting'\n",
    "\n",
    "- Euclidean\n",
    "  - Een rechte lijn tussen twee punten in een Euclidean space (multidimensionale ruimte) dit wordt gedaan met de formule:\n",
    "$$\n",
    "d(\\mathbf{x}_i, \\mathbf{x}_j) = \\sqrt{ \\sum_{k=1}^{n} (x_{ik} - x_{jk})^2 }\n",
    "$$\n",
    "  - Het werkt vooral goed in laag dimensionale ruimten omdat het verschil tussen punten minder betekenisvol zijn in hoge dimensies. Minder kolommen is dus beter voor Euclidean distance\n",
    "- Manhattan\n",
    "  - Manhattan distance is bekend als stadsblokafstand en daarom ook genaamd naar Manhattan omdat Manhattan van boven erg veel lijkt op de manier waarop de distance word berekent. In het kort ga je een afstand berekenen door een echte route te lopen in plaats van Euclidean die dwars door gebouwen heen gaat:\n",
    "  - de formule:\n",
    "\n",
    "$$d(P, Q) = |q_1 - p_1| + |q_2 - p_2|$$\n",
    "\n",
    "Voor meer dan 2 dimensies:\n",
    "\n",
    "$$d(P, Q) = \\sum_{i=1}^{n} |q_i - p_i|$$\n",
    "\n",
    "![image.png](attachment:image.png)\n",
    "\n",
    "[source](https://www.translatorscafe.com/unit-converter/bg/calculator/two-points-distance/?D=2&x1=3&y1=3.5&x2=-5.1&y2=-5.2)\n",
    "  - Deze afstand is de som van de absolute verschillen tussen punten in alle dimensies en wordt berekent met : \n",
    "  - Manhattan distance is minder gevoelig tegen multidimensionale ruimtes omdat het geen kwadraten berekent maar de absolute verschillen optelt.\n",
    "\n",
    "\n",
    "- [Weights](https://visualstudiomagazine.com/articles/2019/04/01/weighted-k-nn-classification.aspx) [additional source](https://towardsai.net/p/l/understanding-k-nearest-neighbors-a-simple-approach-to-classification-and-regression)\n",
    "  - Uniform(default)\n",
    "    - Bij het gebruiken van Uniform als gewicht zorg je dat elk van de 'K' Neighbors evenveel bijdraagt aan het resultaat. Oftewel, een punt die dichtbij ligt heeft even veel invloed als een punt die ver ligt.\n",
    "  - Distance\n",
    "    - Bij het gebruiken van Distance als gewicht heeft de afstand van de 'K' Neighbors invloed op hoeveel het bijdraagt aan het resultaat. De afstand word berekent met  1/d  en d = afstand tot Neighbour. \n",
    "- Voorbeeld :\n",
    "\n",
    "| Punt   | Klasse   | Afstand | Gewicht (Uniform) | Gewicht (Distance) |\n",
    "|--------|----------|---------|-------------------|-------------------|\n",
    "| Punt 1 | Klasse A | 5       | 1                 | 0.2               |\n",
    "| Punt 2 | Klasse A | 7       | 1                 | 0.14              |\n",
    "| Punt 3 | Klasse B | 1       | 1                 | 1.0               |\n",
    "\n",
    "- Uniforme gewichten: Klasse A , want de som van de gewichten voor Klasse A (1+1) is groter dan die voor Klasse B (1).\n",
    "- Afstandsgewichten: Klasse B , want de som van de gewichten voor Klasse A (0.2 + 0.14 = 0.34) is kleiner dan die voor Klasse B (1.0).\n",
    "\n",
    "\n",
    "- ['K' Waarde](https://www.kdnuggets.com/2022/07/knearest-neighbors-scikitlearn.html)\n",
    "  - De waarde van 'k' is van cruciaal belang voor de prestaties van het model. Een kleine 'k' kan leiden tot overfitting omdat het model hierdoor gevoelig wordt voor ruis, terwijl een grote 'k' de voorspellingen kan overdrijven en subtiele patronen kan negeren. Meestal worden oneven waarden van 'k' gekozen om verbanden in de classificatie te vermijden\n",
    "\n",
    "KNN is makkelijk te impelemnteren en te begrijpen maar normaal gesproken gaan prestaties achteruit in hoogdimensionale datasets(in dit geval valt het mee). het schalen van functies zoals standaardisatie is vaak nodig om ervoor te zorgen dat de distance metrics nog meaningful zijn.\n",
    "  \n",
    "​\n"
   ]
  },
  {
   "cell_type": "markdown",
   "metadata": {},
   "source": [
    "### 3.1.2 Leg uit waarom standaardisatie voor dit model van groot belang"
   ]
  },
  {
   "cell_type": "markdown",
   "metadata": {},
   "source": [
    "**schaalverschillen tussen variabelen**\n",
    "  \n",
    "  bijvoorbeeld bij de waarden van glucose varieren van ongeveer 60 tot 200, terwijl BMI-waarden tussen 18 en 50 liggen. Zonder standaardisatie kan een variabele met grotere waarden, zoals glucose, zullen dus meer inpact hebben in de afstandsberekeningen. Dit betekent dat de KNN voornamelijk gebaseerd zal zijn op glucose, waardoor variabelen zoals BMI en leeftijd weinig impact hebben op het eindresultaat.\n",
    "Dit zorgt ervoor dat alle variabelen op een vergelijkbare schaal zijn. Hierdoor kunnen bijv Glucose en BMI gelijk bijdragen aan de afstandsberekeningen."
   ]
  },
  {
   "cell_type": "markdown",
   "metadata": {},
   "source": [
    "### 3.1.3 Bepaal bij welke hyperparameters het model de beste resultaten geeft op degekozen metric"
   ]
  },
  {
   "cell_type": "markdown",
   "metadata": {},
   "source": [
    "Best Parameters: {'metric': 'minkowski', 'n_neighbors': 3, 'p': 3, 'weights': 'uniform'}"
   ]
  },
  {
   "cell_type": "markdown",
   "metadata": {},
   "source": [
    "### 3.1.4 Leg uit hoe regularisatie werkt voor dit model"
   ]
  },
  {
   "cell_type": "markdown",
   "metadata": {},
   "source": [
    "  - Regularisatie is een manier om overfitting te voorkomen en om modellen te verbeteren, bij K-Nearest Neighbors kan je het toepassen door de complexiteit van het model aan te passen door bijvoorbeeld parameters zoals aantal neighbors of Weights te veranderen en optimaliseren.\n",
    "    - 'k' Neighbors\n",
    "      - een belangrijk manier om KNN te regulariseren is door het aantal neighbors(k) te kiezen. Dit bepaald hoeveel datapunten invloed hebben op een voorspelling, een klein 'k' betekent dat het model erg gevoelig is bij kleine variaties --> overfitting. Een groot 'k' maakt het model minder gevoelig en kan overfitting verminderen tot een limiet, zodra je een te hoog 'k' hebt kan leiden tot underfitting waardoor je patronen in data niet inrekent. \n",
    "    - Weights\n",
    "      - Bij 3.1.1 al uitgebreidt uitgelegd met een voorbeeld, in het kort kan je ervoor kiezen of je alle Neighbors(k) gelijk laat wegen of te wegen op basis van hun afstand  tot het nieuwe punt. In 'Distance' Weight hebben neighbours die dichterbij liggen meer invloed op de voorspelling, dit helpt om invloed van minder relevante buren te verminderen.\n",
    "    - Ik maak gebruik van GridSearchCV om de beste parameters voor mijn KNN model te vinden, hierbij gebruik ik verschillende parameters waaronder  Neighbors(k), Weights, Metric en 'p'\n",
    "      - 'p' is belangrijk voor de metric Minkowski, een afstandsmaat die aan de hand van de waarde 'p' kiest waarbij de macht wordt verhoogd bij Manhattan distance. p=1 is bijvoorbeeld hetzelfde als Manhattan distance. In mijn geval werkt p = 3 het beste en de formule gaat als volgt: $D(x, y) = \\left( \\sum_{i=1}^{n} |x_i - y_i|^3 \\right)^{1/3}$\n",
    "        - Voorbeeld: Stel dat je twee punten hebt:  x = (2, 3, 5) en y = (4, 1, 6), dan wordt de Minkowski voor p = 3 als volgt berekend:\n",
    "\n",
    "$$\n",
    "D(x, y) = \\left( |2 - 4|^3 + |3 - 1|^3 + |5 - 6|^3 \\right)^{1/3}\n",
    "$$\n",
    "\n",
    "$$\n",
    "D(x, y) = \\left( 2^3 + 2^3 + 1^3 \\right)^{1/3}\n",
    "$$\n",
    "\n",
    "$$\n",
    "D(x, y) = \\left( 8 + 8 + 1 \\right)^{1/3}\n",
    "$$\n",
    "\n",
    "$$\n",
    "D(x, y) = \\left( 17 \\right)^{1/3}\n",
    "$$\n",
    "\n",
    "$$\n",
    "D(x, y) \\approx 2.571\n",
    "$$\n"
   ]
  },
  {
   "cell_type": "markdown",
   "metadata": {},
   "source": [
    "## 3.2 Logistic Regression"
   ]
  },
  {
   "cell_type": "code",
   "execution_count": null,
   "metadata": {},
   "outputs": [],
   "source": []
  },
  {
   "cell_type": "markdown",
   "metadata": {},
   "source": [
    "### 3.2.1 Leg uit hoe het model werkt"
   ]
  },
  {
   "cell_type": "markdown",
   "metadata": {},
   "source": []
  },
  {
   "cell_type": "markdown",
   "metadata": {},
   "source": [
    "### 3.2.2 Toon de wiskundig formule voor de loss-functie en ligt deze toe"
   ]
  },
  {
   "cell_type": "markdown",
   "metadata": {},
   "source": []
  },
  {
   "cell_type": "markdown",
   "metadata": {},
   "source": [
    "### 3.2.3 Leg uit wat gradient descent is in deze context. Leg dit uit aan de hand van een eenvoudig rekenvoorbeeld en geef hierbij de relevant wiskundige formules"
   ]
  },
  {
   "cell_type": "markdown",
   "metadata": {},
   "source": []
  },
  {
   "cell_type": "markdown",
   "metadata": {},
   "source": [
    "### 3.2.4 Benoem de vormen van regularisatie die van toepassing zijn op dit model. Leg aan de hand van wiskundige formules uit hoe iedere vorm werkt en wat het effect is van iedere vorm"
   ]
  },
  {
   "cell_type": "markdown",
   "metadata": {},
   "source": []
  },
  {
   "cell_type": "markdown",
   "metadata": {},
   "source": [
    "### 3.2.5 Beschrijf hoe regularisatie zich verhoudt ten opzichte van overfitting"
   ]
  },
  {
   "cell_type": "markdown",
   "metadata": {},
   "source": []
  },
  {
   "cell_type": "markdown",
   "metadata": {},
   "source": [
    "### 3.2.6 Bepaal bij welke hyperparameters het model de beste resultaten geeft op degekozen metric"
   ]
  },
  {
   "cell_type": "markdown",
   "metadata": {},
   "source": []
  },
  {
   "cell_type": "markdown",
   "metadata": {},
   "source": [
    "## 3.3 SVM"
   ]
  },
  {
   "cell_type": "code",
   "execution_count": 44,
   "metadata": {},
   "outputs": [
    {
     "name": "stdout",
     "output_type": "stream",
     "text": [
      "stroke\n",
      "0    21711\n",
      "1      515\n",
      "Name: count, dtype: int64\n",
      "F1 score: 0.5819672131147541\n",
      "              precision    recall  f1-score   support\n",
      "\n",
      "           0       0.99      1.00      0.99      6519\n",
      "           1       0.75      0.48      0.58       149\n",
      "\n",
      "    accuracy                           0.98      6668\n",
      "   macro avg       0.87      0.74      0.79      6668\n",
      "weighted avg       0.98      0.98      0.98      6668\n",
      "\n"
     ]
    }
   ],
   "source": [
    "# Import train_test_split function\n",
    "from sklearn.model_selection import train_test_split\n",
    "from sklearn.metrics import classification_report\n",
    "from sklearn import svm\n",
    "from imblearn.under_sampling import InstanceHardnessThreshold\n",
    "\n",
    "train = pd.read_csv('train.csv')\n",
    "test = pd.read_csv('test.csv')\n",
    "\n",
    "train = train.astype({col: int for col in train.columns if train[col].dtype == 'bool'})\n",
    "test = test.astype({col: int for col in test.columns if test[col].dtype == 'bool'})\n",
    "\n",
    "bmi_col = train[['bmi']]\n",
    "z_scores = np.abs(stats.zscore(bmi_col))\n",
    "outliers = np.where(z_scores > 3) \n",
    "outliers_rows = bmi_col[(z_scores > 3).any(axis=1)] \n",
    "train = train.drop(outliers_rows.index)\n",
    "\n",
    "\n",
    "train.drop(columns = ['gender_Male' , 'gender_Other' , 'ever_married_No' , 'Residence_type_Rural' , 'id'] , inplace = True)\n",
    "train.rename(columns = {'gender_Female' : 'gender'} , inplace = True)\n",
    "\n",
    "test_data_ids = test['id']\n",
    "\n",
    "test.drop(columns = ['gender_Male' , 'gender_Other' , 'ever_married_No' , 'Residence_type_Rural' , 'id'] , inplace = True)\n",
    "test.rename(columns = {'gender_Female' : 'gender'} , inplace = True)\n",
    "\n",
    "\n",
    "test = sc.fit_transform(test) \n",
    "\n",
    "X = train.drop(columns=['stroke'])\n",
    "y = train['stroke']\n",
    "\n",
    "iht = InstanceHardnessThreshold(random_state=42, n_jobs=-1)\n",
    "X_resampled, y_resampled = iht.fit_resample(X, y)\n",
    "\n",
    "sc = StandardScaler()\n",
    "\n",
    "X_resampled = sc.fit_transform(X_resampled) \n",
    "\n",
    "print(y_resampled.value_counts())\n",
    "\n",
    "# Split dataset into training set and test set\n",
    "X_train, X_test, y_train, y_test = train_test_split(X_resampled, y_resampled, test_size=0.3,random_state=42) # 70% training and 30% test\n",
    "\n",
    "#Create a svm Classifier\n",
    "clf = svm.SVC(kernel='rbf', C=100)\n",
    "\n",
    "#Train the model using the training sets\n",
    "clf.fit(X_train, y_train)\n",
    "\n",
    "#Predict the response for test dataset\n",
    "y_pred = clf.predict(X_test)\n",
    "\n",
    "#Import scikit-learn metrics module for accuracy calculation\n",
    "from sklearn import metrics\n",
    "\n",
    "# Model Accuracy: how often is the classifier correct?\n",
    "print(\"F1 score:\",metrics.f1_score(y_test, y_pred))\n",
    "\n",
    "print(classification_report(y_test, y_pred))"
   ]
  },
  {
   "cell_type": "code",
   "execution_count": 32,
   "metadata": {},
   "outputs": [],
   "source": [
    "SVM_pred = clf.predict(test)\n",
    "SVM_pred_df = test_data_ids.to_frame()\n",
    "SVM_pred_df['stroke'] = SVM_pred\n",
    "SVM_pred_df.to_csv('SVM_pred_13.csv', index=False)"
   ]
  },
  {
   "cell_type": "markdown",
   "metadata": {},
   "source": [
    "### 3.3.1 Beschrijf de werking van dit model. Toon hierbij de relevante wiskundige formules en leg ze uit aan de hand van een rekenvoorbeeld. Gebruik hierbij een klein deel van de dataset. Leg ook uit wat een kernel is en wat de kernel trick is"
   ]
  },
  {
   "cell_type": "markdown",
   "metadata": {},
   "source": [
    "Een SVM werkt door data in kaart te kunnen brengen op in een hogere dimensie. Stel je een grafiek voor waar een lijn doorheen gaat om te classes te bepalen, een svm kan hier extra dimensies aan toevoegen waardoor het bij 1 extra bijvoorbeeld een vlak wordt.\n",
    "\n"
   ]
  },
  {
   "cell_type": "markdown",
   "metadata": {},
   "source": [
    "**Rekenvoorbeeld en kernel trick uitleg**"
   ]
  },
  {
   "cell_type": "markdown",
   "metadata": {},
   "source": [
    "### 3.3.2 De wiskundig formule voor de loss functie en de regularisatie"
   ]
  },
  {
   "cell_type": "markdown",
   "metadata": {},
   "source": [
    "$$\\min_{\\mathbf{w}, b, \\xi} \\frac{1}{2} ||\\mathbf{w}||^2 + C \\sum_{i=1}^{n} \\max(0, 1 - y_i f(\\mathbf{x}_i)) \n"
   ]
  },
  {
   "cell_type": "markdown",
   "metadata": {},
   "source": [
    "### Toelichting: \n",
    "1. **L2 Regularisatie** \n",
    "```math\n",
    "\\left(\\frac{1}{2} ||\\mathbf{w}||^2\\right)\n",
    "```\n",
    "   - Dit zorgt voor kleine gewichten, het maximaliseerd de marge tussen de 2 classes. Een kleinere ||w|| betekent een kleinere marge, dit zorgt voor meer generalisatie en minder overfitting.\n",
    "\n",
    "\n",
    "2. **C Parameter of \"Soft Margin Regularisatie\" (C=100)**:\n",
    "   - Een hoge C waarde (in dit geval, 100) betekent dat het model een hogere nadruk legt op het minimaliseren van foute classificaties.\n",
    "   - Dit zou kunnen leiden to overfitten als het model te goed leert te werken op de trainingdata, dit komt doordat de 'decision boundary' te complex wordt om te generaliseren. In ons geval werkt dit nog vrij goed.\n",
    "\n",
    "3. **Hinge Loss** \n",
    "```math\n",
    "\\left(\\max(0, 1 - y_i f(\\mathbf{x}_i))\\right)\n",
    "```\n",
    "\n",
    "   - De hinge loss zorgt er voor dat de punten die correct geclassificeerd zijn buiten het marge geen loss toevoegen.\n",
    "   - Als een punt binnen de marge of fout geclassificeerd is, groeit de loss exponentieel in proportie met hoe fout die is.\n",
    "\n"
   ]
  },
  {
   "cell_type": "markdown",
   "metadata": {},
   "source": [
    "### 3.3.4 Bepaal bij welke hyperparameters het model de beste resultaten geeft op degekozen metric"
   ]
  },
  {
   "cell_type": "code",
   "execution_count": 30,
   "metadata": {},
   "outputs": [],
   "source": [
    "from sklearn.model_selection import GridSearchCV\n",
    "from sklearn.metrics import f1_score\n",
    "import scipy.stats"
   ]
  },
  {
   "cell_type": "code",
   "execution_count": 31,
   "metadata": {},
   "outputs": [
    {
     "name": "stdout",
     "output_type": "stream",
     "text": [
      "Best hyerparameters:\n",
      " {'C': 100, 'kernel': 'rbf'}\n",
      "F1 Score 0.5819672131147541\n",
      "classification_report:\n",
      "               precision    recall  f1-score   support\n",
      "\n",
      "           0       0.99      1.00      0.99      6519\n",
      "           1       0.75      0.48      0.58       149\n",
      "\n",
      "    accuracy                           0.98      6668\n",
      "   macro avg       0.87      0.74      0.79      6668\n",
      "weighted avg       0.98      0.98      0.98      6668\n",
      "\n"
     ]
    }
   ],
   "source": [
    "from sklearn.model_selection import GridSearchCV\n",
    "param_grid = {'kernel': ['rbf'],\n",
    "              'C' : [0.1, 1, 10, 50, 100, 150,],\n",
    "#              'class_weight': ['balanced', None],\n",
    "#              'degree': [1, 2, 3], alleen relevant voor polynominal\n",
    "#              'gamma': ('scale', 'auto', 0.0001, 0.001, 0.01, 0.1, 1, 10),\n",
    "#              'probability': [True]\n",
    "#              'decision_function_shape': [ 'ovo', 'ovr'], Maakt niet uit voor binary probleem\n",
    "#              'break_ties': [True, False] geen multiclass probleem dus niet relevant\n",
    "              }\n",
    "\n",
    "grid_dt = GridSearchCV(svm.SVC(),\n",
    "                       param_grid=param_grid,\n",
    "                       scoring='f1',\n",
    "                       cv=5,\n",
    "                       n_jobs=-1)\n",
    "\n",
    "grid_dt.fit(X_train, y_train)\n",
    "\n",
    "best_svm = grid_dt.best_estimator_\n",
    "best_hyperparams = grid_dt.best_params_\n",
    "print('Best hyerparameters:\\n', best_hyperparams)\n",
    "\n",
    "#y_proba = best_svm.predict_proba(X_test)[:,1]\n",
    "#y_predi_custom_threshold = (y_proba >= 0.5).astype(int)\n",
    "print(\"F1 Score\", f1_score(y_test, y_pred))\n",
    "print(\"classification_report:\\n\", classification_report(y_test, y_pred))\n"
   ]
  },
  {
   "cell_type": "markdown",
   "metadata": {},
   "source": []
  },
  {
   "cell_type": "markdown",
   "metadata": {},
   "source": [
    "## 3.4 Decision Tree"
   ]
  },
  {
   "cell_type": "code",
   "execution_count": null,
   "metadata": {},
   "outputs": [],
   "source": [
    "from sklearn.tree import DecisionTreeClassifier\n",
    "from sklearn.ensemble import RandomForestClassifier\n",
    "from sklearn.ensemble import GradientBoostingClassifier\n",
    "from sklearn.model_selection import GridSearchCV, train_test_split\n",
    "from sklearn import metrics \n",
    "from sklearn.metrics import classification_report, f1_score, confusion_matrix, ConfusionMatrixDisplay\n",
    "from imblearn.over_sampling import SMOTE\n",
    "from imblearn.over_sampling import ADASYN\n",
    "from imblearn.under_sampling import InstanceHardnessThreshold"
   ]
  },
  {
   "cell_type": "code",
   "execution_count": null,
   "metadata": {},
   "outputs": [],
   "source": [
    "train = pd.read_csv('train.csv')\n",
    "test = pd.read_csv('test.csv')\n",
    "\n",
    "test_data_ids = test['id']\n",
    "\n",
    "num_cols = train[['bmi']]   # bmi heeft extreme outliers die niet mogelijk zijn terwijl extreem hoge avg_glucose_level waardes wel mogelijk zijn\n",
    "z_scores = np.abs(stats.zscore(num_cols))   # Z-scores berekenen\n",
    "outliers = np.where(z_scores > 3)   # Outliers vinden\n",
    "outliers_rows = num_cols[(z_scores > 3).any(axis=1)]   # Rijen met outliers vinden\n",
    "train = train.drop(outliers_rows.index)  # Rijen met outliers verwijderen\n",
    "train.drop(columns = ['gender_Male' , 'gender_Other' , 'ever_married_No' , 'Residence_type_Rural' , 'id'] , inplace = True) # Kolommen verwijderen die geen invloed hebben op de target\n",
    "train.rename(columns = {'gender_Female' : 'gender'} , inplace = True) # Kolom hernoemen, 1 = Female, 0= Male\n",
    "\n",
    "test.drop(columns = ['gender_Male' , 'gender_Other' , 'ever_married_No' , 'Residence_type_Rural' , 'id'] , inplace = True) # Kolommen verwijderen die geen invloed hebben op de target\n",
    "test.rename(columns = {'gender_Female' : 'gender'} , inplace = True) # Kolom hernoemen, 1 = Female, 0= Male\n",
    "\n",
    "X = train.drop(columns=['stroke'])\n",
    "y = train['stroke']\n",
    "\n",
    "smote = SMOTE(random_state=0)\n",
    "X_resampled, y_resampled = smote.fit_resample(X, y)\n",
    "\n",
    "print(y_resampled.value_counts())\n",
    "\n",
    "sc = StandardScaler()\n",
    "\n",
    "X_resampled = sc.fit_transform(X_resampled) "
   ]
  },
  {
   "cell_type": "code",
   "execution_count": null,
   "metadata": {},
   "outputs": [],
   "source": [
    "dt = DecisionTreeClassifier(random_state=42)\n",
    "param_grid = {'criterion': ['gini', 'entropy'], # Beide 'criterions' proberen\n",
    "              'splitter': ['best', 'random'], # Manieren van splitsen\n",
    "              'max_depth': [None, 5, 10, 20, 30], # Maximale diepte van de tree\n",
    "              'min_samples_split': [2, 5, 10, 20], # Minimaal aantal samples om door te splitsen\n",
    "              'min_samples_leaf': [1,2,3, 5, 10], # Minimaal aantal samples in een leaf\n",
    "              'max_features': [None, 'sqrt', 'log2'], # Manieren om features uit te kiezen\n",
    "              'max_leaf_nodes': [None, 10, 20, 30], # Maximale aantal nodes\n",
    "              'ccp_alpha': [0.001, 0.01, 0.1, 0.0], # Pruning strategie\n",
    "dt_cv = GridSearchCV(estimator=dt, param_grid=param_grid, cv=5, scoring='f1', n_jobs=-1)\n",
    "dt_cv.fit(X, y) \n",
    "\n",
    "dt_cv.best_params_, dt_cv.best_score_"
   ]
  },
  {
   "cell_type": "code",
   "execution_count": null,
   "metadata": {},
   "outputs": [],
   "source": [
    "X_train, X_test, y_train, y_test= train_test_split(X_resampled, y_resampled, test_size=0.3, random_state=42)\n",
    "\n",
    "dt = DecisionTreeClassifier(criterion='entropy', splitter = 'best', max_depth = 5, min_samples_split = 2, min_samples_leaf = 10, max_leaf_nodes = 10, max_features = None, ccp_alpha=0.001, class_weight={0: 1, 1: 58}, random_state=42)\n",
    "dt.fit(X_train, y_train)\n",
    "y_pred = dt.predict(X_test)\n",
    "print(\"F1 Score:\", metrics.f1_score(y_test, y_pred))\n",
    "\n",
    "Decision_pred = dt.predict(test)\n",
    "Decision_pred_df = test_data_ids.to_frame()\n",
    "Decision_pred_df['stroke'] = Decision_pred\n",
    "Decision_pred_df.to_csv('Decision_pred_v12.csv', index=False)\n",
    "#Beste kaggle score tot nu toe: 0.04147 (met smote)\n",
    "#dt = DecisionTreeClassifier(criterion='entropy', splitter = 'best', max_depth = 16, min_samples_split = 2, min_samples_leaf = 1, max_features = 12, random_state=42)\n",
    "print(classification_report(y_test, y_pred))\n"
   ]
  },
  {
   "cell_type": "markdown",
   "metadata": {},
   "source": [
    "### 3.4.1 Beschrijf de werking van dit model"
   ]
  },
  {
   "cell_type": "markdown",
   "metadata": {},
   "source": [
    "Een decision tree is een model die op basis van een boomdiagram een class voorspelt. Dit wordt gedaan door middel van een reeks beslissingen. Elke \"node\" boom stelt een vraag over een feature van de data en op basis daarvan ga je een stap verder in de beslisboom. Dit gaat zo door tot je uiteindelijk bij de leafes van de boom komt die de voorspeelde uitkomst / class aangeven."
   ]
  },
  {
   "cell_type": "markdown",
   "metadata": {},
   "source": [
    "### 3.4.2 Beschrijf de criteria op basis waarvan de splitsingen in de beslisboon kunnen worden gemaakt"
   ]
  },
  {
   "cell_type": "markdown",
   "metadata": {},
   "source": [
    "Bij een decision tree is het van cruciaal belang dat er wordt bepaald op welke features er gesplitst moet worden en hoe deze vervolgens gemaakt moeten worden. Dit wordt gebaseerd op verschillende maatstaven. Twee opties zijn:\n",
    "\n",
    "Information gain:\n",
    "\n",
    "Entropie meet de mate van onzuiverheid in de data. Het geeft aan hoe gevarieerd de klassen zijn in een dataset.\n",
    "\n",
    "Als de dataset puur is (alle voorbeelden behoren tot dezelfde klasse), is de entropie laag (0). Als de dataset perfect gemengd is (gelijke aantallen voorbeelden van elke klasse), is de entropie hoog (maximaal).\n",
    "\n",
    "Information gain is het verschil in entropie voor en na het splitsen van de data op een bepaald kenmerk. Het geeft aan hoeveel informatie je \"wint\" door die specifieke splitsing te maken. Als het de information gain hoger is, is het beter om op dit model te splitsen.\n",
    "\n",
    "In elke stap van het bouwen van de decision tree, wordt voor elk kenmerk de information gain berekend. Het kenmerk met de hoogste information gain wordt gekozen om de data op te splitsen, omdat het de grootste vermindering in entropie geeft. Dit blijft worden gedaan tot er uiteindelijk geen nieuwe splitsingen meer kunnen worden gemaakt (of als er geen verbetering in het model meer mogelijk is)\n",
    "\n",
    "Gini Impurity:\n",
    "\n",
    "De Gini-Impurity is nog een maatstaf die vaak wordt gebruikt om te bepalen welke splitsing het beste is bij het bouwen van een decision tree classifier. In plaats van dat er entropie wordt gebruikt, meet deze maatstaaf de kans dat een willekeurig gekozen voorbeeld onjuist zou worden geclassificeerd op basis van de verdeling van de klassen in de dataset.\n",
    "\n",
    "Bij elke stap van het proces van een decision tree wordt de Gini-Impurity voor elk mogelijke splitsing berekend. Vervolgens kiest het model de splitsing die de grootste reductie in Gini-Impurity oplevert. Dit houdt in dat de data na elke splitsing zuiverder wordt. Bij elke stap in het bouwproces van een decision tree berekent het algoritme de Gini-impurity voor de huidige\n",
    "\n",
    "Ook dit proces wordt herhaald voor elke stuk van de data, waarbij de boom steeds verder wordt opgesplitst totdat de Gini-impurity voor de \"leafs\" laag genoeg is of totdat er geen verdere splitsingen meer nodig zijn.\n",
    "\n",
    "https://medium.com/@arpita.k20/gini-impurity-and-entropy-for-decision-tree-68eb139274d1\n",
    "\n",
    "https://victorzhou.com/blog/information-gain/\n",
    "\n",
    "https://victorzhou.com/blog/gini-impurity/\n"
   ]
  },
  {
   "cell_type": "markdown",
   "metadata": {},
   "source": [
    "### 3.4.3 Bepaal bij welke hyperparameters het model de beste resultaten geeft op degekozen metric"
   ]
  },
  {
   "cell_type": "markdown",
   "metadata": {},
   "source": []
  },
  {
   "cell_type": "markdown",
   "metadata": {},
   "source": [
    "### 3.4.4 Leg uit wat ‘pruning’ is en beschrijf welke vormen hiervan zijn toegepast. Leg de relatie tussen ‘pruning’ en ‘underfitting / overfitting’ uit"
   ]
  },
  {
   "cell_type": "markdown",
   "metadata": {},
   "source": [
    "Pruning is een techniek die wordt gebruikt om decision trees te vereenvoudigen en overfitting te voorkomen. Een model is overfit wanneer het te goed past op de trainingsdata, maar slecht resulteert / generaliseert op nieuwe data. Bij pruning worden overbodige delen van de decision tree die weinig of geen toegevoegde waarde hebben voor de voorspelling verwijdert. Dit vereenvoudigt het model, zodat het beter presteert op nieuwe data en dus minder zal overfitten.\n",
    "\n",
    "In ons model maken we gebruik van pre-pruning. Dit betekent het \"groeiproces\" van de boom vroegtijdig wordt gestopt, voordat de boom volledig is gesplistst. Dit hebben we gedaan aan de hand van vooraf bepaalde parameters (die we hebben berekend met de gridsearch).\n",
    "\n",
    "De methoden die wij hebben gebruikt zijn:\n",
    "\n",
    "-Max_depth: Het proces stopt wanneer de boom een bepaalde diepte bereikt. Diepere bomen kunnen overfitting veroorzaken, dus een maximale diepte beperken voorkomt dit.\n",
    "-Min_samples_split: dit is het aantal samples dat minimaal nodig is om een \"node\" te splitten. Bij te weinig samples zal de tree dus neit verder doorgroeien.\n",
    "-Min_samples_leaf: het minimaal aantal samples dat een \"leaf\" moet hebben. Ook dit help met de grootte van de decision tree.\n",
    "\n",
    "Relatie tussen Pruning en Underfitting / Overfitting:\n",
    "\n",
    "Overfitting: een decision tree is overfit, wanneer het teveel leert van de trainingsdata en dus slecht generaliseert op nieuwe data. Door middel van pre-pruning wordt overfitting vermindert, door de bovenstaande technieken toe te passen.\n",
    "\n",
    "Underfitting: het kan ook zo zijn dat je een model underfit door gebruik te maken van pre-pruning. Als je niet een gridsearch doet en dus niet de juiste parameters gebruikt bij het trainen van een model, kan het zijn dat je het model te simpel maakt en het dus niet in staat is om dingen goed te voorspellen.\n",
    "\n",
    "https://medium.com/@abhishekjainindore24/pre-pruning-and-post-pruning-in-decision-trees-a-comprehensive-guide-391fd3682883\n",
    "\n",
    "https://scikit-learn.org/dev/modules/generated/sklearn.tree.DecisionTreeClassifier.html\n"
   ]
  },
  {
   "cell_type": "markdown",
   "metadata": {},
   "source": [
    "## 3.5 Ensembles  (Random Forest, Gradient Boosted Boosted Decistion Trees en XGboost)"
   ]
  },
  {
   "cell_type": "code",
   "execution_count": null,
   "metadata": {},
   "outputs": [],
   "source": [
    "train = pd.read_csv('train.csv')\n",
    "test = pd.read_csv('test.csv')\n",
    "\n",
    "test_data_ids = test['id']\n",
    "\n",
    "num_cols = train[['bmi']]   # bmi heeft extreme outliers die niet mogelijk zijn terwijl extreem hoge avg_glucose_level waardes wel mogelijk zijn\n",
    "z_scores = np.abs(stats.zscore(num_cols))   # Z-scores berekenen\n",
    "outliers = np.where(z_scores > 3)   # Outliers vinden\n",
    "outliers_rows = num_cols[(z_scores > 3).any(axis=1)]   # Rijen met outliers vinden\n",
    "train = train.drop(outliers_rows.index)  # Rijen met outliers verwijderen\n",
    "train.drop(columns = ['gender_Male' , 'gender_Other' , 'ever_married_No' , 'Residence_type_Rural' , 'id'] , inplace = True) # Kolommen verwijderen die geen invloed hebben op de target\n",
    "train.rename(columns = {'gender_Female' : 'gender'} , inplace = True) # Kolom hernoemen, 1 = Female, 0= Male\n",
    "\n",
    "test.drop(columns = ['gender_Male' , 'gender_Other' , 'ever_married_No' , 'Residence_type_Rural' , 'id'] , inplace = True) # Kolommen verwijderen die geen invloed hebben op de target\n",
    "test.rename(columns = {'gender_Female' : 'gender'} , inplace = True) # Kolom hernoemen, 1 = Female, 0= Male\n",
    "\n",
    "X = train.drop(columns=['stroke'])\n",
    "y = train['stroke']\n",
    "\n",
    "#smote = SMOTE(random_state=0)\n",
    "#X_resampled, y_resampled = smote.fit_resample(X, y)\n",
    "#\n",
    "#print(y_resampled.value_counts())\n",
    "#\n",
    "#sc = StandardScaler()\n",
    "#\n",
    "#X_resampled = sc.fit_transform(X_resampled) \n",
    "\n",
    "oversample = ADASYN()\n",
    "X_resampled, y_resampled = oversample.fit_resample(X, y)\n",
    "\n",
    "print(y_resampled.value_counts())\n",
    "\n",
    "sc = StandardScaler()\n",
    "\n",
    "X_resampled = sc.fit_transform(X_resampled) "
   ]
  },
  {
   "cell_type": "code",
   "execution_count": null,
   "metadata": {},
   "outputs": [],
   "source": [
    "rf = RandomForestClassifier(random_state=42)\n",
    "param_grid = {'n_estimators': [10,20,30,40,50],'criterion': ['gini', 'entropy'], 'max_depth': [3,5,7,9,11,13,15], 'min_samples_split': [5,10,15,20], 'min_samples_leaf': [5,10,15,20], 'max_features': ['sqrt', 'log2']}\n",
    "rf_cv = GridSearchCV(estimator=rf, param_grid=param_grid, cv=5, scoring='f1', n_jobs=-1)\n",
    "rf_cv.fit(X, y) \n",
    "\n",
    "rf_cv.best_params_, rf_cv.best_score_"
   ]
  },
  {
   "cell_type": "code",
   "execution_count": null,
   "metadata": {},
   "outputs": [],
   "source": [
    "X_train, X_test, y_train, y_test= train_test_split(X_resampled, y_resampled, test_size=0.3, random_state=42)\n",
    "\n",
    "rf = RandomForestClassifier(n_estimators=10, criterion='gini', max_depth=3, min_samples_split=5, min_samples_leaf=5, max_features='sqrt', max_samples=None, bootstrap=True, random_state=42)\n",
    "\n",
    "rf.fit(X_train, y_train)\n",
    "\n",
    "y_pred = rf.predict(X_test)\n",
    "\n",
    "print(\"F1 Score:\", metrics.f1_score(y_test, y_pred))\n",
    "print(classification_report(y_test, y_pred))\n",
    "rf_pred = rf.predict(test)\n",
    "rf_pred_df = test_data_ids.to_frame()\n",
    "rf_pred_df['stroke'] = rf_pred\n",
    "rf_pred_df.to_csv('rf_pred_12.csv', index=False)\n",
    "#rf = RandomForestClassifier(n_estimators=1, criterion='entropy', max_depth=15, min_samples_split=2, min_samples_leaf=1, max_features='sqrt'. random_state=42)\n",
    "#Beste kaggle score tot nu toe: 0.04503 (Adasyn Sampling)"
   ]
  },
  {
   "cell_type": "code",
   "execution_count": null,
   "metadata": {},
   "outputs": [],
   "source": [
    "train = pd.read_csv('train.csv')\n",
    "test = pd.read_csv('test.csv')\n",
    "\n",
    "test_data_ids = test['id']\n",
    "\n",
    "num_cols = train[['bmi']]   # bmi heeft extreme outliers die niet mogelijk zijn terwijl extreem hoge avg_glucose_level waardes wel mogelijk zijn\n",
    "z_scores = np.abs(stats.zscore(num_cols))   # Z-scores berekenen\n",
    "outliers = np.where(z_scores > 3)   # Outliers vinden\n",
    "outliers_rows = num_cols[(z_scores > 3).any(axis=1)]   # Rijen met outliers vinden\n",
    "train = train.drop(outliers_rows.index)  # Rijen met outliers verwijderen\n",
    "train.drop(columns = ['gender_Male' , 'gender_Other' , 'ever_married_No' , 'Residence_type_Rural' , 'id'] , inplace = True) # Kolommen verwijderen die geen invloed hebben op de target\n",
    "train.rename(columns = {'gender_Female' : 'gender'} , inplace = True) # Kolom hernoemen, 1 = Female, 0= Male\n",
    "\n",
    "test.drop(columns = ['gender_Male' , 'gender_Other' , 'ever_married_No' , 'Residence_type_Rural' , 'id'] , inplace = True) # Kolommen verwijderen die geen invloed hebben op de target\n",
    "test.rename(columns = {'gender_Female' : 'gender'} , inplace = True) # Kolom hernoemen, 1 = Female, 0= Male\n",
    "\n",
    "X = train.drop(columns=['stroke'])\n",
    "y = train['stroke']\n",
    "\n",
    "oversample = ADASYN()\n",
    "X_resampled, y_resampled = oversample.fit_resample(X, y)\n",
    "\n",
    "print(y_resampled.value_counts())\n",
    "\n",
    "sc = StandardScaler()\n",
    "\n",
    "X_resampled = sc.fit_transform(X_resampled) "
   ]
  },
  {
   "cell_type": "code",
   "execution_count": null,
   "metadata": {},
   "outputs": [],
   "source": [
    "gbc = GradientBoostingClassifier(random_state=42)\n",
    "param_grid = {'loss': ['log_loss', 'exponential'], 'learning_rate': [0.1], 'n_estimators': np.arange(1,10),'criterion': ['friedman_mse', 'squared_error'], 'max_depth': [1,2,3,4,5,6,7,8,9,10], 'max_features': ['sqrt']}\n",
    "gbc_cv = GridSearchCV(estimator=gbc, param_grid=param_grid, cv=5, scoring='f1', n_jobs=-1)\n",
    "gbc_cv.fit(X, y) \n",
    "\n",
    "gbc_cv.best_params_, gbc_cv.best_score_\n",
    "\n",
    "#param_grid = {'loss': ['log_loss', 'exponential'], 'learning_rate': [0.1], 'n_estimators': np.arange(1,10),'criterion': ['friedman_mse', 'squared_error'], 'max_depth': [1,2,3,4,5,6,7,8,9,10], 'min_samples_split': np.arange(1,7), 'min_samples_leaf': np.arange(1,7), 'max_features': ['sqrt']}"
   ]
  },
  {
   "cell_type": "code",
   "execution_count": null,
   "metadata": {},
   "outputs": [],
   "source": [
    "X_train, X_test, y_train, y_test= train_test_split(X_resampled, y_resampled, test_size=0.3, random_state=42)\n",
    "\n",
    "gbc = GradientBoostingClassifier(loss = 'log_loss', learning_rate = 0.1, n_estimators = 7, criterion = 'friedman_mse', min_samples_split = 2, min_samples_leaf = 1, max_depth = 8, max_features = 'sqrt', random_state=42)\n",
    "\n",
    "\n",
    "gbc.fit(X_train, y_train)\n",
    "y_pred = gbc.predict(X_test)\n",
    "\n",
    "print(\"F1 Score:\", metrics.f1_score(y_test, y_pred))\n",
    "print(classification_report(y_test, y_pred))\n",
    "#gbc = GradientBoostingClassifier(loss = 'log_loss', learning_rate = 0.1, n_estimators = 7, criterion = 'friedman_mse', min_samples_split = 2, min_samples_leaf = 1, max_depth = 8, max_features = 'sqrt', random_state=42)\n",
    "gbc_pred = gbc.predict(test)\n",
    "gbc_pred_df = test_data_ids.to_frame()\n",
    "gbc_pred_df['stroke'] = gbc_pred\n",
    "gbc_pred_df.to_csv('gbc_pred_32.csv', index=False)\n",
    "#Kaggle best score: 0.09090 (adasys)"
   ]
  },
  {
   "cell_type": "markdown",
   "metadata": {},
   "source": [
    "### 3.5.1 Beschrijf de werking van de 3 genoemde ensembles. Gebruik daarbij o.a. de termen “bagging (bootstrap aggregation)” en “boosting “. Leg daarbij uit welke ensembles relatief veel trainingstijd nodig hebben en welke weinig tijd. Gebruik daarbij o.a. de termen “sequential” en “parallel\""
   ]
  },
  {
   "cell_type": "markdown",
   "metadata": {},
   "source": [
    "**Random Forest**\n",
    "\n",
    "Random forest is gebaseerd op bagging. Bij bagging worden meerdere versies van hetzelfde model getraind op verschillende subsets van de dataset (datapunten maken, met \"terugleggen\"). Doordat de trees onafhankelijk van elkaar worden getrained, kunnen ze parallel worden verwerkt. Hierdoor is de trainingstijd dus relatief snel. Na het trainen van elke tree, wordt de uiteindelijke voorspelling gemaakt door het gemiddelde te pakken bij regressie of de meerderheid van stemmen bij classificatie (dus welke class het vaakste is voorspeld).\n",
    "\n",
    "**Gradient Descent Boosting**\n",
    "\n",
    "Boosting is een net andere manier van modellen trainen, aangezien dit sequentieel wordt gedaan in plaats van parallel. Dit betekent dat je ze sequentieel traint en elk volgend model dus leert van de fouten van het vorige model om zich zo dus te verbeteren. De samples die verkeerd zijn voorspeld, worden dus zwaarder meegenomen bij het trainen van het model erna. De focus ligt dus echt op moeilijk te voorspellen datapunten. Door het sequentieel trainen, kost het trainen van zo een model dus relatief veel tijd in vergelijking met een random forest."
   ]
  },
  {
   "cell_type": "markdown",
   "metadata": {},
   "source": [
    "### 3.5.2 Bepaal bij welke hyperparameters ieder ensemble de beste resultaten geeft op de gekozen metric."
   ]
  },
  {
   "cell_type": "markdown",
   "metadata": {},
   "source": []
  },
  {
   "cell_type": "markdown",
   "metadata": {},
   "source": [
    "## 3.6 Zelf samengesteld ensemble"
   ]
  },
  {
   "cell_type": "markdown",
   "metadata": {},
   "source": [
    "Ensemble dient te bestaan uit minimaal drie modellen"
   ]
  },
  {
   "cell_type": "code",
   "execution_count": null,
   "metadata": {},
   "outputs": [],
   "source": []
  },
  {
   "cell_type": "markdown",
   "metadata": {},
   "source": [
    "### 3.6.1 Leg uit hoe een ensemble werkt en beschrijf welke vorm van “voting” je hebtgekozen en waarom"
   ]
  },
  {
   "cell_type": "markdown",
   "metadata": {},
   "source": []
  },
  {
   "cell_type": "markdown",
   "metadata": {},
   "source": [
    "### 3.6.2 Leg uit waarom je hebt gekozen voor de modellen in je ensemble"
   ]
  },
  {
   "cell_type": "markdown",
   "metadata": {},
   "source": []
  },
  {
   "cell_type": "markdown",
   "metadata": {},
   "source": [
    "### 3.6.3 Bepaal bij welke hyperparameters het model de beste resultaten geeft op degekozen metric"
   ]
  },
  {
   "cell_type": "markdown",
   "metadata": {},
   "source": []
  },
  {
   "cell_type": "markdown",
   "metadata": {},
   "source": [
    "# 4. Conclusie en advies"
   ]
  },
  {
   "cell_type": "markdown",
   "metadata": {},
   "source": [
    "### 4.1 Geef in een tabel een overzicht van de scores van alle toegepaste modellen en ensembles. Laat daarin van ieder model en ensemble zien hoe het presteerde in je notebook en op Kaggle"
   ]
  },
  {
   "cell_type": "markdown",
   "metadata": {},
   "source": []
  },
  {
   "cell_type": "markdown",
   "metadata": {},
   "source": [
    "### 4.2 Welke model presteert het beste? Waarom? Bij welke parameters?"
   ]
  },
  {
   "cell_type": "markdown",
   "metadata": {},
   "source": []
  },
  {
   "cell_type": "markdown",
   "metadata": {},
   "source": [
    "### 4.3 De prestaties van een model zijn belangrijk. Welke overwegingen spelen nog meer een rol, naast de prestaties van het model, om een juiste keuze voor een model te maken"
   ]
  },
  {
   "cell_type": "markdown",
   "metadata": {},
   "source": []
  },
  {
   "cell_type": "markdown",
   "metadata": {},
   "source": [
    "### 4.4 Welke model adviseer je aan artsen om te gebruiken? Leg uit waarom?"
   ]
  },
  {
   "cell_type": "markdown",
   "metadata": {},
   "source": []
  }
 ],
 "metadata": {
  "kernelspec": {
   "display_name": "Python 3",
   "language": "python",
   "name": "python3"
  },
  "language_info": {
   "codemirror_mode": {
    "name": "ipython",
    "version": 3
   },
   "file_extension": ".py",
   "mimetype": "text/x-python",
   "name": "python",
   "nbconvert_exporter": "python",
   "pygments_lexer": "ipython3",
   "version": "3.12.0"
  }
 },
 "nbformat": 4,
 "nbformat_minor": 2
}
