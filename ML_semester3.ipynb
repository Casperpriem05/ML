{
 "cells": [
  {
   "cell_type": "markdown",
   "metadata": {},
   "source": [
    "# Kaggle team name: vijf5!\n",
    "\n",
    "# Members:\n",
    "1. Jesse Coenraad -> JesseCoenraad\n",
    "2. Jordan van Sintanneland -> JordanvanSint\n",
    "3. Casper Priem -> CasperPriem\n",
    "4. Jassar Hasiba -> UrClades"
   ]
  },
  {
   "cell_type": "code",
   "execution_count": 1,
   "metadata": {},
   "outputs": [],
   "source": [
    "import pandas as pd\n",
    "import numpy as np\n",
    "import matplotlib.pyplot as plt\n",
    "import seaborn as sns\n",
    "import missingno as msno\n",
    "from sklearn.preprocessing import StandardScaler\n"
   ]
  },
  {
   "cell_type": "markdown",
   "metadata": {},
   "source": [
    "# 1. Exploratieve Data Analyse (EDA)"
   ]
  },
  {
   "cell_type": "code",
   "execution_count": 2,
   "metadata": {},
   "outputs": [
    {
     "ename": "FileNotFoundError",
     "evalue": "[Errno 2] No such file or directory: 'train.csv'",
     "output_type": "error",
     "traceback": [
      "\u001b[1;31m---------------------------------------------------------------------------\u001b[0m",
      "\u001b[1;31mFileNotFoundError\u001b[0m                         Traceback (most recent call last)",
      "Cell \u001b[1;32mIn[2], line 1\u001b[0m\n\u001b[1;32m----> 1\u001b[0m train \u001b[38;5;241m=\u001b[39m pd\u001b[38;5;241m.\u001b[39mread_csv(\u001b[38;5;124m'\u001b[39m\u001b[38;5;124mtrain.csv\u001b[39m\u001b[38;5;124m'\u001b[39m)\n\u001b[0;32m      2\u001b[0m test \u001b[38;5;241m=\u001b[39m pd\u001b[38;5;241m.\u001b[39mread_csv(\u001b[38;5;124m'\u001b[39m\u001b[38;5;124mtest.csv\u001b[39m\u001b[38;5;124m'\u001b[39m)\n",
      "File \u001b[1;32mc:\\Users\\jesse\\anaconda3\\Lib\\site-packages\\pandas\\util\\_decorators.py:211\u001b[0m, in \u001b[0;36mdeprecate_kwarg.<locals>._deprecate_kwarg.<locals>.wrapper\u001b[1;34m(*args, **kwargs)\u001b[0m\n\u001b[0;32m    209\u001b[0m     \u001b[38;5;28;01melse\u001b[39;00m:\n\u001b[0;32m    210\u001b[0m         kwargs[new_arg_name] \u001b[38;5;241m=\u001b[39m new_arg_value\n\u001b[1;32m--> 211\u001b[0m \u001b[38;5;28;01mreturn\u001b[39;00m func(\u001b[38;5;241m*\u001b[39margs, \u001b[38;5;241m*\u001b[39m\u001b[38;5;241m*\u001b[39mkwargs)\n",
      "File \u001b[1;32mc:\\Users\\jesse\\anaconda3\\Lib\\site-packages\\pandas\\util\\_decorators.py:331\u001b[0m, in \u001b[0;36mdeprecate_nonkeyword_arguments.<locals>.decorate.<locals>.wrapper\u001b[1;34m(*args, **kwargs)\u001b[0m\n\u001b[0;32m    325\u001b[0m \u001b[38;5;28;01mif\u001b[39;00m \u001b[38;5;28mlen\u001b[39m(args) \u001b[38;5;241m>\u001b[39m num_allow_args:\n\u001b[0;32m    326\u001b[0m     warnings\u001b[38;5;241m.\u001b[39mwarn(\n\u001b[0;32m    327\u001b[0m         msg\u001b[38;5;241m.\u001b[39mformat(arguments\u001b[38;5;241m=\u001b[39m_format_argument_list(allow_args)),\n\u001b[0;32m    328\u001b[0m         \u001b[38;5;167;01mFutureWarning\u001b[39;00m,\n\u001b[0;32m    329\u001b[0m         stacklevel\u001b[38;5;241m=\u001b[39mfind_stack_level(),\n\u001b[0;32m    330\u001b[0m     )\n\u001b[1;32m--> 331\u001b[0m \u001b[38;5;28;01mreturn\u001b[39;00m func(\u001b[38;5;241m*\u001b[39margs, \u001b[38;5;241m*\u001b[39m\u001b[38;5;241m*\u001b[39mkwargs)\n",
      "File \u001b[1;32mc:\\Users\\jesse\\anaconda3\\Lib\\site-packages\\pandas\\io\\parsers\\readers.py:950\u001b[0m, in \u001b[0;36mread_csv\u001b[1;34m(filepath_or_buffer, sep, delimiter, header, names, index_col, usecols, squeeze, prefix, mangle_dupe_cols, dtype, engine, converters, true_values, false_values, skipinitialspace, skiprows, skipfooter, nrows, na_values, keep_default_na, na_filter, verbose, skip_blank_lines, parse_dates, infer_datetime_format, keep_date_col, date_parser, dayfirst, cache_dates, iterator, chunksize, compression, thousands, decimal, lineterminator, quotechar, quoting, doublequote, escapechar, comment, encoding, encoding_errors, dialect, error_bad_lines, warn_bad_lines, on_bad_lines, delim_whitespace, low_memory, memory_map, float_precision, storage_options)\u001b[0m\n\u001b[0;32m    935\u001b[0m kwds_defaults \u001b[38;5;241m=\u001b[39m _refine_defaults_read(\n\u001b[0;32m    936\u001b[0m     dialect,\n\u001b[0;32m    937\u001b[0m     delimiter,\n\u001b[1;32m   (...)\u001b[0m\n\u001b[0;32m    946\u001b[0m     defaults\u001b[38;5;241m=\u001b[39m{\u001b[38;5;124m\"\u001b[39m\u001b[38;5;124mdelimiter\u001b[39m\u001b[38;5;124m\"\u001b[39m: \u001b[38;5;124m\"\u001b[39m\u001b[38;5;124m,\u001b[39m\u001b[38;5;124m\"\u001b[39m},\n\u001b[0;32m    947\u001b[0m )\n\u001b[0;32m    948\u001b[0m kwds\u001b[38;5;241m.\u001b[39mupdate(kwds_defaults)\n\u001b[1;32m--> 950\u001b[0m \u001b[38;5;28;01mreturn\u001b[39;00m _read(filepath_or_buffer, kwds)\n",
      "File \u001b[1;32mc:\\Users\\jesse\\anaconda3\\Lib\\site-packages\\pandas\\io\\parsers\\readers.py:605\u001b[0m, in \u001b[0;36m_read\u001b[1;34m(filepath_or_buffer, kwds)\u001b[0m\n\u001b[0;32m    602\u001b[0m _validate_names(kwds\u001b[38;5;241m.\u001b[39mget(\u001b[38;5;124m\"\u001b[39m\u001b[38;5;124mnames\u001b[39m\u001b[38;5;124m\"\u001b[39m, \u001b[38;5;28;01mNone\u001b[39;00m))\n\u001b[0;32m    604\u001b[0m \u001b[38;5;66;03m# Create the parser.\u001b[39;00m\n\u001b[1;32m--> 605\u001b[0m parser \u001b[38;5;241m=\u001b[39m TextFileReader(filepath_or_buffer, \u001b[38;5;241m*\u001b[39m\u001b[38;5;241m*\u001b[39mkwds)\n\u001b[0;32m    607\u001b[0m \u001b[38;5;28;01mif\u001b[39;00m chunksize \u001b[38;5;129;01mor\u001b[39;00m iterator:\n\u001b[0;32m    608\u001b[0m     \u001b[38;5;28;01mreturn\u001b[39;00m parser\n",
      "File \u001b[1;32mc:\\Users\\jesse\\anaconda3\\Lib\\site-packages\\pandas\\io\\parsers\\readers.py:1442\u001b[0m, in \u001b[0;36mTextFileReader.__init__\u001b[1;34m(self, f, engine, **kwds)\u001b[0m\n\u001b[0;32m   1439\u001b[0m     \u001b[38;5;28mself\u001b[39m\u001b[38;5;241m.\u001b[39moptions[\u001b[38;5;124m\"\u001b[39m\u001b[38;5;124mhas_index_names\u001b[39m\u001b[38;5;124m\"\u001b[39m] \u001b[38;5;241m=\u001b[39m kwds[\u001b[38;5;124m\"\u001b[39m\u001b[38;5;124mhas_index_names\u001b[39m\u001b[38;5;124m\"\u001b[39m]\n\u001b[0;32m   1441\u001b[0m \u001b[38;5;28mself\u001b[39m\u001b[38;5;241m.\u001b[39mhandles: IOHandles \u001b[38;5;241m|\u001b[39m \u001b[38;5;28;01mNone\u001b[39;00m \u001b[38;5;241m=\u001b[39m \u001b[38;5;28;01mNone\u001b[39;00m\n\u001b[1;32m-> 1442\u001b[0m \u001b[38;5;28mself\u001b[39m\u001b[38;5;241m.\u001b[39m_engine \u001b[38;5;241m=\u001b[39m \u001b[38;5;28mself\u001b[39m\u001b[38;5;241m.\u001b[39m_make_engine(f, \u001b[38;5;28mself\u001b[39m\u001b[38;5;241m.\u001b[39mengine)\n",
      "File \u001b[1;32mc:\\Users\\jesse\\anaconda3\\Lib\\site-packages\\pandas\\io\\parsers\\readers.py:1735\u001b[0m, in \u001b[0;36mTextFileReader._make_engine\u001b[1;34m(self, f, engine)\u001b[0m\n\u001b[0;32m   1733\u001b[0m     \u001b[38;5;28;01mif\u001b[39;00m \u001b[38;5;124m\"\u001b[39m\u001b[38;5;124mb\u001b[39m\u001b[38;5;124m\"\u001b[39m \u001b[38;5;129;01mnot\u001b[39;00m \u001b[38;5;129;01min\u001b[39;00m mode:\n\u001b[0;32m   1734\u001b[0m         mode \u001b[38;5;241m+\u001b[39m\u001b[38;5;241m=\u001b[39m \u001b[38;5;124m\"\u001b[39m\u001b[38;5;124mb\u001b[39m\u001b[38;5;124m\"\u001b[39m\n\u001b[1;32m-> 1735\u001b[0m \u001b[38;5;28mself\u001b[39m\u001b[38;5;241m.\u001b[39mhandles \u001b[38;5;241m=\u001b[39m get_handle(\n\u001b[0;32m   1736\u001b[0m     f,\n\u001b[0;32m   1737\u001b[0m     mode,\n\u001b[0;32m   1738\u001b[0m     encoding\u001b[38;5;241m=\u001b[39m\u001b[38;5;28mself\u001b[39m\u001b[38;5;241m.\u001b[39moptions\u001b[38;5;241m.\u001b[39mget(\u001b[38;5;124m\"\u001b[39m\u001b[38;5;124mencoding\u001b[39m\u001b[38;5;124m\"\u001b[39m, \u001b[38;5;28;01mNone\u001b[39;00m),\n\u001b[0;32m   1739\u001b[0m     compression\u001b[38;5;241m=\u001b[39m\u001b[38;5;28mself\u001b[39m\u001b[38;5;241m.\u001b[39moptions\u001b[38;5;241m.\u001b[39mget(\u001b[38;5;124m\"\u001b[39m\u001b[38;5;124mcompression\u001b[39m\u001b[38;5;124m\"\u001b[39m, \u001b[38;5;28;01mNone\u001b[39;00m),\n\u001b[0;32m   1740\u001b[0m     memory_map\u001b[38;5;241m=\u001b[39m\u001b[38;5;28mself\u001b[39m\u001b[38;5;241m.\u001b[39moptions\u001b[38;5;241m.\u001b[39mget(\u001b[38;5;124m\"\u001b[39m\u001b[38;5;124mmemory_map\u001b[39m\u001b[38;5;124m\"\u001b[39m, \u001b[38;5;28;01mFalse\u001b[39;00m),\n\u001b[0;32m   1741\u001b[0m     is_text\u001b[38;5;241m=\u001b[39mis_text,\n\u001b[0;32m   1742\u001b[0m     errors\u001b[38;5;241m=\u001b[39m\u001b[38;5;28mself\u001b[39m\u001b[38;5;241m.\u001b[39moptions\u001b[38;5;241m.\u001b[39mget(\u001b[38;5;124m\"\u001b[39m\u001b[38;5;124mencoding_errors\u001b[39m\u001b[38;5;124m\"\u001b[39m, \u001b[38;5;124m\"\u001b[39m\u001b[38;5;124mstrict\u001b[39m\u001b[38;5;124m\"\u001b[39m),\n\u001b[0;32m   1743\u001b[0m     storage_options\u001b[38;5;241m=\u001b[39m\u001b[38;5;28mself\u001b[39m\u001b[38;5;241m.\u001b[39moptions\u001b[38;5;241m.\u001b[39mget(\u001b[38;5;124m\"\u001b[39m\u001b[38;5;124mstorage_options\u001b[39m\u001b[38;5;124m\"\u001b[39m, \u001b[38;5;28;01mNone\u001b[39;00m),\n\u001b[0;32m   1744\u001b[0m )\n\u001b[0;32m   1745\u001b[0m \u001b[38;5;28;01massert\u001b[39;00m \u001b[38;5;28mself\u001b[39m\u001b[38;5;241m.\u001b[39mhandles \u001b[38;5;129;01mis\u001b[39;00m \u001b[38;5;129;01mnot\u001b[39;00m \u001b[38;5;28;01mNone\u001b[39;00m\n\u001b[0;32m   1746\u001b[0m f \u001b[38;5;241m=\u001b[39m \u001b[38;5;28mself\u001b[39m\u001b[38;5;241m.\u001b[39mhandles\u001b[38;5;241m.\u001b[39mhandle\n",
      "File \u001b[1;32mc:\\Users\\jesse\\anaconda3\\Lib\\site-packages\\pandas\\io\\common.py:856\u001b[0m, in \u001b[0;36mget_handle\u001b[1;34m(path_or_buf, mode, encoding, compression, memory_map, is_text, errors, storage_options)\u001b[0m\n\u001b[0;32m    851\u001b[0m \u001b[38;5;28;01melif\u001b[39;00m \u001b[38;5;28misinstance\u001b[39m(handle, \u001b[38;5;28mstr\u001b[39m):\n\u001b[0;32m    852\u001b[0m     \u001b[38;5;66;03m# Check whether the filename is to be opened in binary mode.\u001b[39;00m\n\u001b[0;32m    853\u001b[0m     \u001b[38;5;66;03m# Binary mode does not support 'encoding' and 'newline'.\u001b[39;00m\n\u001b[0;32m    854\u001b[0m     \u001b[38;5;28;01mif\u001b[39;00m ioargs\u001b[38;5;241m.\u001b[39mencoding \u001b[38;5;129;01mand\u001b[39;00m \u001b[38;5;124m\"\u001b[39m\u001b[38;5;124mb\u001b[39m\u001b[38;5;124m\"\u001b[39m \u001b[38;5;129;01mnot\u001b[39;00m \u001b[38;5;129;01min\u001b[39;00m ioargs\u001b[38;5;241m.\u001b[39mmode:\n\u001b[0;32m    855\u001b[0m         \u001b[38;5;66;03m# Encoding\u001b[39;00m\n\u001b[1;32m--> 856\u001b[0m         handle \u001b[38;5;241m=\u001b[39m \u001b[38;5;28mopen\u001b[39m(\n\u001b[0;32m    857\u001b[0m             handle,\n\u001b[0;32m    858\u001b[0m             ioargs\u001b[38;5;241m.\u001b[39mmode,\n\u001b[0;32m    859\u001b[0m             encoding\u001b[38;5;241m=\u001b[39mioargs\u001b[38;5;241m.\u001b[39mencoding,\n\u001b[0;32m    860\u001b[0m             errors\u001b[38;5;241m=\u001b[39merrors,\n\u001b[0;32m    861\u001b[0m             newline\u001b[38;5;241m=\u001b[39m\u001b[38;5;124m\"\u001b[39m\u001b[38;5;124m\"\u001b[39m,\n\u001b[0;32m    862\u001b[0m         )\n\u001b[0;32m    863\u001b[0m     \u001b[38;5;28;01melse\u001b[39;00m:\n\u001b[0;32m    864\u001b[0m         \u001b[38;5;66;03m# Binary mode\u001b[39;00m\n\u001b[0;32m    865\u001b[0m         handle \u001b[38;5;241m=\u001b[39m \u001b[38;5;28mopen\u001b[39m(handle, ioargs\u001b[38;5;241m.\u001b[39mmode)\n",
      "\u001b[1;31mFileNotFoundError\u001b[0m: [Errno 2] No such file or directory: 'train.csv'"
     ]
    }
   ],
   "source": [
    "train = pd.read_csv('train.csv')\n",
    "test = pd.read_csv('test.csv')"
   ]
  },
  {
   "cell_type": "code",
   "execution_count": null,
   "metadata": {},
   "outputs": [],
   "source": [
    "# Kijken of er missende data in de traindata zit\n",
    "msno.matrix(train)"
   ]
  },
  {
   "cell_type": "code",
   "execution_count": null,
   "metadata": {},
   "outputs": [],
   "source": [
    "# Kijken of er missende data in de testdata zit\n",
    "msno.matrix(test)"
   ]
  },
  {
   "cell_type": "code",
   "execution_count": null,
   "metadata": {},
   "outputs": [],
   "source": [
    "# Booleans omzetten naar 0 en 1\n",
    "\n",
    "train = train.astype({col: int for col in train.columns if train[col].dtype == 'bool'})\n",
    "test = test.astype({col: int for col in test.columns if test[col].dtype == 'bool'})"
   ]
  },
  {
   "cell_type": "code",
   "execution_count": null,
   "metadata": {},
   "outputs": [],
   "source": [
    "display(train.head())\n",
    "display(train.info())\n",
    "display(train.describe())"
   ]
  },
  {
   "cell_type": "code",
   "execution_count": null,
   "metadata": {},
   "outputs": [],
   "source": [
    "for i in train.columns:\n",
    "    sns.histplot(x=train[i])\n",
    "    plt.show()"
   ]
  },
  {
   "cell_type": "code",
   "execution_count": null,
   "metadata": {},
   "outputs": [],
   "source": [
    "\n",
    "plt.figure(figsize=(25, 18))\n",
    "sns.heatmap(train.corr(), annot=True)"
   ]
  },
  {
   "cell_type": "code",
   "execution_count": null,
   "metadata": {},
   "outputs": [],
   "source": [
    "X = train.drop('stroke', axis = 1)\n",
    "y = train['stroke']"
   ]
  },
  {
   "cell_type": "code",
   "execution_count": null,
   "metadata": {},
   "outputs": [],
   "source": [
    "sc = StandardScaler()\n",
    "\n",
    "train = sc.fit_transform(train) "
   ]
  },
  {
   "cell_type": "markdown",
   "metadata": {},
   "source": [
    "### 1.1 Uitleg van iedere kolom"
   ]
  },
  {
   "cell_type": "markdown",
   "metadata": {},
   "source": [
    "0: id: uniek id van het persoon\n",
    "\n",
    "1: age: leeftijd\n",
    "\n",
    "3: hypertension: hoge bloeddruk (0 is nee, 1 is ja)\n",
    "\n",
    "4: heart_disease: hart- en vaatziekten (0 is nee, 1 is ja)\n",
    "\n",
    "5: avg_glucose_level: gemiddeld glucoselevel gemeten in mmol/L\n",
    "\n",
    "6: bmi: bmi van de persoon \n",
    "\n",
    "7: gender_female: geslacht (True or False)\n",
    "\n",
    "8: Gender_other: People who identify as something other than male or female\n",
    "\n",
    "9: Every_married_no: geeft aan wie er niet getrouwd is.\n",
    "\n",
    "10: Every_married_yes: geeft aan wie er wel getrouwd is.\n",
    "\n",
    "11: Work_type_Govt_job: geeft aan wie er een baan heeft die te maken heeft met veiligheid van de bevolking.\n",
    "\n",
    "12: work_type_never_worked: mensen die nooit gewerkt hebben.\n",
    "\n",
    "13: work_type_private_work: mensen die privé werk doen.\n",
    "\n",
    "14: work_type_Self_employed: mensen die eigen baas zijn.\n",
    "\n",
    "15: work_type_children: ?\n",
    "\n",
    "16: Residence_type_rural: heeft de person een huis in een landelijk gebied. (True or False)\n",
    "\n",
    "17: Residence_type_urban: heeft de persoon een huis in een stedelijk gebied. (True or False)\n",
    "\n",
    "18: Smoking_status_formerly smoked: heeft de person in het verleden gerookt.  (True or False)\n",
    "\n",
    "19: Smoking_status_never smoked: heeft de persoon ooit gerookt.  (True or False)\n",
    "\n",
    "20: Smoking_status_smokes: Rookt de persoon momenteel actief.  (True or False)\n",
    "\n",
    "21: Stroke: Heeft de persoon een beroerte gehad. (True or False)\n"
   ]
  },
  {
   "cell_type": "markdown",
   "metadata": {},
   "source": [
    "### 1.2 Beschrijf in hoeverre de data voldoet aan de minimale vereisten voor Machine Learning met Scitkit Learn"
   ]
  },
  {
   "cell_type": "code",
   "execution_count": 3,
   "metadata": {},
   "outputs": [
    {
     "name": "stdout",
     "output_type": "stream",
     "text": [
      "<class 'pandas.core.frame.DataFrame'>\n",
      "RangeIndex: 33550 entries, 0 to 33549\n",
      "Data columns (total 22 columns):\n",
      " #   Column                          Non-Null Count  Dtype  \n",
      "---  ------                          --------------  -----  \n",
      " 0   id                              33550 non-null  int64  \n",
      " 1   age                             33550 non-null  float64\n",
      " 2   hypertension                    33550 non-null  int64  \n",
      " 3   heart_disease                   33550 non-null  int64  \n",
      " 4   avg_glucose_level               33550 non-null  float64\n",
      " 5   bmi                             33550 non-null  float64\n",
      " 6   gender_Female                   33550 non-null  bool   \n",
      " 7   gender_Male                     33550 non-null  bool   \n",
      " 8   gender_Other                    33550 non-null  bool   \n",
      " 9   ever_married_No                 33550 non-null  bool   \n",
      " 10  ever_married_Yes                33550 non-null  bool   \n",
      " 11  work_type_Govt_job              33550 non-null  bool   \n",
      " 12  work_type_Never_worked          33550 non-null  bool   \n",
      " 13  work_type_Private               33550 non-null  bool   \n",
      " 14  work_type_Self-employed         33550 non-null  bool   \n",
      " 15  work_type_children              33550 non-null  bool   \n",
      " 16  Residence_type_Rural            33550 non-null  bool   \n",
      " 17  Residence_type_Urban            33550 non-null  bool   \n",
      " 18  smoking_status_formerly smoked  33550 non-null  bool   \n",
      " 19  smoking_status_never smoked     33550 non-null  bool   \n",
      " 20  smoking_status_smokes           33550 non-null  bool   \n",
      " 21  stroke                          33550 non-null  int64  \n",
      "dtypes: bool(15), float64(3), int64(4)\n",
      "memory usage: 2.3 MB\n"
     ]
    },
    {
     "data": {
      "text/plain": [
       "None"
      ]
     },
     "metadata": {},
     "output_type": "display_data"
    },
    {
     "data": {
      "text/html": [
       "<div>\n",
       "<style scoped>\n",
       "    .dataframe tbody tr th:only-of-type {\n",
       "        vertical-align: middle;\n",
       "    }\n",
       "\n",
       "    .dataframe tbody tr th {\n",
       "        vertical-align: top;\n",
       "    }\n",
       "\n",
       "    .dataframe thead th {\n",
       "        text-align: right;\n",
       "    }\n",
       "</style>\n",
       "<table border=\"1\" class=\"dataframe\">\n",
       "  <thead>\n",
       "    <tr style=\"text-align: right;\">\n",
       "      <th></th>\n",
       "      <th>id</th>\n",
       "      <th>age</th>\n",
       "      <th>hypertension</th>\n",
       "      <th>heart_disease</th>\n",
       "      <th>avg_glucose_level</th>\n",
       "      <th>bmi</th>\n",
       "      <th>stroke</th>\n",
       "    </tr>\n",
       "  </thead>\n",
       "  <tbody>\n",
       "    <tr>\n",
       "      <th>count</th>\n",
       "      <td>33550.000000</td>\n",
       "      <td>33550.000000</td>\n",
       "      <td>33550.000000</td>\n",
       "      <td>33550.000000</td>\n",
       "      <td>33550.000000</td>\n",
       "      <td>33550.000000</td>\n",
       "      <td>33550.000000</td>\n",
       "    </tr>\n",
       "    <tr>\n",
       "      <th>mean</th>\n",
       "      <td>36746.393353</td>\n",
       "      <td>41.815312</td>\n",
       "      <td>0.088137</td>\n",
       "      <td>0.043040</td>\n",
       "      <td>103.587081</td>\n",
       "      <td>28.601216</td>\n",
       "      <td>0.015410</td>\n",
       "    </tr>\n",
       "    <tr>\n",
       "      <th>std</th>\n",
       "      <td>20906.519131</td>\n",
       "      <td>22.477423</td>\n",
       "      <td>0.283498</td>\n",
       "      <td>0.202951</td>\n",
       "      <td>42.127396</td>\n",
       "      <td>7.782248</td>\n",
       "      <td>0.123178</td>\n",
       "    </tr>\n",
       "    <tr>\n",
       "      <th>min</th>\n",
       "      <td>1.000000</td>\n",
       "      <td>0.080000</td>\n",
       "      <td>0.000000</td>\n",
       "      <td>0.000000</td>\n",
       "      <td>55.010000</td>\n",
       "      <td>10.100000</td>\n",
       "      <td>0.000000</td>\n",
       "    </tr>\n",
       "    <tr>\n",
       "      <th>25%</th>\n",
       "      <td>18763.250000</td>\n",
       "      <td>24.000000</td>\n",
       "      <td>0.000000</td>\n",
       "      <td>0.000000</td>\n",
       "      <td>77.460000</td>\n",
       "      <td>23.300000</td>\n",
       "      <td>0.000000</td>\n",
       "    </tr>\n",
       "    <tr>\n",
       "      <th>50%</th>\n",
       "      <td>36862.000000</td>\n",
       "      <td>43.000000</td>\n",
       "      <td>0.000000</td>\n",
       "      <td>0.000000</td>\n",
       "      <td>91.320000</td>\n",
       "      <td>27.700000</td>\n",
       "      <td>0.000000</td>\n",
       "    </tr>\n",
       "    <tr>\n",
       "      <th>75%</th>\n",
       "      <td>54757.500000</td>\n",
       "      <td>59.000000</td>\n",
       "      <td>0.000000</td>\n",
       "      <td>0.000000</td>\n",
       "      <td>111.437500</td>\n",
       "      <td>32.800000</td>\n",
       "      <td>0.000000</td>\n",
       "    </tr>\n",
       "    <tr>\n",
       "      <th>max</th>\n",
       "      <td>72943.000000</td>\n",
       "      <td>82.000000</td>\n",
       "      <td>1.000000</td>\n",
       "      <td>1.000000</td>\n",
       "      <td>281.590000</td>\n",
       "      <td>97.600000</td>\n",
       "      <td>1.000000</td>\n",
       "    </tr>\n",
       "  </tbody>\n",
       "</table>\n",
       "</div>"
      ],
      "text/plain": [
       "                 id           age  hypertension  heart_disease  \\\n",
       "count  33550.000000  33550.000000  33550.000000   33550.000000   \n",
       "mean   36746.393353     41.815312      0.088137       0.043040   \n",
       "std    20906.519131     22.477423      0.283498       0.202951   \n",
       "min        1.000000      0.080000      0.000000       0.000000   \n",
       "25%    18763.250000     24.000000      0.000000       0.000000   \n",
       "50%    36862.000000     43.000000      0.000000       0.000000   \n",
       "75%    54757.500000     59.000000      0.000000       0.000000   \n",
       "max    72943.000000     82.000000      1.000000       1.000000   \n",
       "\n",
       "       avg_glucose_level           bmi        stroke  \n",
       "count       33550.000000  33550.000000  33550.000000  \n",
       "mean          103.587081     28.601216      0.015410  \n",
       "std            42.127396      7.782248      0.123178  \n",
       "min            55.010000     10.100000      0.000000  \n",
       "25%            77.460000     23.300000      0.000000  \n",
       "50%            91.320000     27.700000      0.000000  \n",
       "75%           111.437500     32.800000      0.000000  \n",
       "max           281.590000     97.600000      1.000000  "
      ]
     },
     "metadata": {},
     "output_type": "display_data"
    }
   ],
   "source": [
    "display(data.info())\n",
    "display(data.describe())"
   ]
  },
  {
   "cell_type": "markdown",
   "metadata": {},
   "source": [
    "EDA: Voldoet aan de eisen, geen missende waarden etc."
   ]
  },
  {
   "cell_type": "markdown",
   "metadata": {},
   "source": [
    "### 1.2.1 maak de evenutele aanpassingen"
   ]
  },
  {
   "cell_type": "code",
   "execution_count": null,
   "metadata": {},
   "outputs": [],
   "source": []
  },
  {
   "cell_type": "markdown",
   "metadata": {},
   "source": [
    "### 1.3 Onderzoek de relaties tussen de onafhankelijke variabelen enerzijds en de afhankelijke variabele anderzijds. Gebruik hierbij passende visualisaties"
   ]
  },
  {
   "cell_type": "code",
   "execution_count": 4,
   "metadata": {},
   "outputs": [
    {
     "name": "stdout",
     "output_type": "stream",
     "text": [
      "                                      id       age  hypertension  \\\n",
      "id                              1.000000  0.019925      0.009345   \n",
      "age                             0.019925  1.000000      0.270207   \n",
      "hypertension                    0.009345  0.270207      1.000000   \n",
      "heart_disease                   0.011535  0.243313      0.121086   \n",
      "avg_glucose_level               0.025441  0.230919      0.156929   \n",
      "bmi                             0.020731  0.355223      0.156497   \n",
      "gender_Female                  -0.001009  0.030582     -0.021556   \n",
      "gender_Male                     0.001054 -0.030408      0.021671   \n",
      "gender_Other                   -0.001627 -0.006435     -0.004158   \n",
      "ever_married_No                -0.012487 -0.694193     -0.176087   \n",
      "ever_married_Yes                0.012487  0.694193      0.176087   \n",
      "work_type_Govt_job             -0.000790  0.115869      0.020330   \n",
      "work_type_Never_worked          0.003074 -0.069243     -0.018572   \n",
      "work_type_Private               0.012355  0.150553      0.007402   \n",
      "work_type_Self-employed         0.011981  0.326551      0.098835   \n",
      "work_type_children             -0.029458 -0.641680     -0.127175   \n",
      "Residence_type_Rural           -0.000472  0.001907      0.001806   \n",
      "Residence_type_Urban            0.000472 -0.001907     -0.001806   \n",
      "smoking_status_formerly smoked  0.013669  0.245370      0.071041   \n",
      "smoking_status_never smoked    -0.004893  0.122329      0.047176   \n",
      "smoking_status_smokes           0.016324  0.077457      0.027006   \n",
      "stroke                          0.000691  0.148722      0.084019   \n",
      "\n",
      "                                heart_disease  avg_glucose_level       bmi  \\\n",
      "id                                   0.011535           0.025441  0.020731   \n",
      "age                                  0.243313           0.230919  0.355223   \n",
      "hypertension                         0.121086           0.156929  0.156497   \n",
      "heart_disease                        1.000000           0.142094  0.059081   \n",
      "avg_glucose_level                    0.142094           1.000000  0.191954   \n",
      "bmi                                  0.059081           0.191954  1.000000   \n",
      "gender_Female                       -0.082398          -0.032764  0.020203   \n",
      "gender_Male                          0.082481           0.032799 -0.020138   \n",
      "gender_Other                        -0.002836          -0.001197 -0.002437   \n",
      "ever_married_No                     -0.124067          -0.146321 -0.339922   \n",
      "ever_married_Yes                     0.124067           0.146321  0.339922   \n",
      "work_type_Govt_job                  -0.006632           0.017917  0.095118   \n",
      "work_type_Never_worked              -0.013777          -0.012635 -0.021389   \n",
      "work_type_Private                   -0.005874           0.010465  0.205866   \n",
      "work_type_Self-employed              0.100573           0.079151  0.083180   \n",
      "work_type_children                  -0.085907          -0.110172 -0.459784   \n",
      "Residence_type_Rural                 0.003244           0.000184  0.003120   \n",
      "Residence_type_Urban                -0.003244          -0.000184 -0.003120   \n",
      "smoking_status_formerly smoked       0.086410           0.078463  0.123589   \n",
      "smoking_status_never smoked         -0.030749           0.017674  0.119553   \n",
      "smoking_status_smokes                0.036895           0.024154  0.071266   \n",
      "stroke                               0.104625           0.076813  0.020574   \n",
      "\n",
      "                                gender_Female  gender_Male  gender_Other  \\\n",
      "id                                  -0.001009     0.001054 -1.626964e-03   \n",
      "age                                  0.030582    -0.030408 -6.435276e-03   \n",
      "hypertension                        -0.021556     0.021671 -4.157984e-03   \n",
      "heart_disease                       -0.082398     0.082481 -2.836343e-03   \n",
      "avg_glucose_level                   -0.032764     0.032799 -1.197014e-03   \n",
      "bmi                                  0.020203    -0.020138 -2.436744e-03   \n",
      "gender_Female                        1.000000    -0.999628 -1.628074e-02   \n",
      "gender_Male                         -0.999628     1.000000 -1.098249e-02   \n",
      "gender_Other                        -0.016281    -0.010982  1.000000e+00   \n",
      "ever_married_No                     -0.032508     0.032405  3.859411e-03   \n",
      "ever_married_Yes                     0.032508    -0.032405 -3.859411e-03   \n",
      "work_type_Govt_job                   0.017623    -0.017672  1.737220e-03   \n",
      "work_type_Never_worked              -0.003934     0.003958 -8.688524e-04   \n",
      "work_type_Private                    0.052351    -0.052300 -2.018985e-03   \n",
      "work_type_Self-employed              0.003779    -0.003624 -5.679563e-03   \n",
      "work_type_children                  -0.093270     0.093080  7.182908e-03   \n",
      "Residence_type_Rural                 0.004934    -0.004934  7.972705e-07   \n",
      "Residence_type_Urban                -0.004934     0.004934 -7.972705e-07   \n",
      "smoking_status_formerly smoked      -0.038953     0.038309  2.373330e-02   \n",
      "smoking_status_never smoked          0.104729    -0.104579 -5.770532e-03   \n",
      "smoking_status_smokes               -0.022705     0.022858 -5.575212e-03   \n",
      "stroke                              -0.008727     0.008774 -1.673168e-03   \n",
      "\n",
      "                                ever_married_No  ...  work_type_Never_worked  \\\n",
      "id                                    -0.012487  ...                0.003074   \n",
      "age                                   -0.694193  ...               -0.069243   \n",
      "hypertension                          -0.176087  ...               -0.018572   \n",
      "heart_disease                         -0.124067  ...               -0.013777   \n",
      "avg_glucose_level                     -0.146321  ...               -0.012635   \n",
      "bmi                                   -0.339922  ...               -0.021389   \n",
      "gender_Female                         -0.032508  ...               -0.003934   \n",
      "gender_Male                            0.032405  ...                0.003958   \n",
      "gender_Other                           0.003859  ...               -0.000869   \n",
      "ever_married_No                        1.000000  ...                0.080608   \n",
      "ever_married_Yes                      -1.000000  ...               -0.080608   \n",
      "work_type_Govt_job                    -0.132750  ...               -0.024428   \n",
      "work_type_Never_worked                 0.080608  ...                1.000000   \n",
      "work_type_Private                     -0.166266  ...               -0.075508   \n",
      "work_type_Self-employed               -0.198386  ...               -0.027588   \n",
      "work_type_children                     0.546352  ...               -0.026699   \n",
      "Residence_type_Rural                   0.001038  ...               -0.003221   \n",
      "Residence_type_Urban                  -0.001038  ...                0.003221   \n",
      "smoking_status_formerly smoked        -0.175230  ...               -0.020657   \n",
      "smoking_status_never smoked           -0.108771  ...                0.018112   \n",
      "smoking_status_smokes                 -0.104110  ...               -0.021892   \n",
      "stroke                                -0.066403  ...               -0.008127   \n",
      "\n",
      "                                work_type_Private  work_type_Self-employed  \\\n",
      "id                                       0.012355                 0.011981   \n",
      "age                                      0.150553                 0.326551   \n",
      "hypertension                             0.007402                 0.098835   \n",
      "heart_disease                           -0.005874                 0.100573   \n",
      "avg_glucose_level                        0.010465                 0.079151   \n",
      "bmi                                      0.205866                 0.083180   \n",
      "gender_Female                            0.052351                 0.003779   \n",
      "gender_Male                             -0.052300                -0.003624   \n",
      "gender_Other                            -0.002019                -0.005680   \n",
      "ever_married_No                         -0.166266                -0.198386   \n",
      "ever_married_Yes                         0.166266                 0.198386   \n",
      "work_type_Govt_job                      -0.437042                -0.159682   \n",
      "work_type_Never_worked                  -0.075508                -0.027588   \n",
      "work_type_Private                        1.000000                -0.493585   \n",
      "work_type_Self-employed                 -0.493585                 1.000000   \n",
      "work_type_children                      -0.477684                -0.174531   \n",
      "Residence_type_Rural                    -0.009155                 0.007481   \n",
      "Residence_type_Urban                     0.009155                -0.007481   \n",
      "smoking_status_formerly smoked           0.042335                 0.084517   \n",
      "smoking_status_never smoked              0.123799                 0.024904   \n",
      "smoking_status_smokes                    0.101308                 0.006790   \n",
      "stroke                                  -0.004937                 0.061883   \n",
      "\n",
      "                                work_type_children  Residence_type_Rural  \\\n",
      "id                                       -0.029458         -4.717175e-04   \n",
      "age                                      -0.641680          1.906562e-03   \n",
      "hypertension                             -0.127175          1.805894e-03   \n",
      "heart_disease                            -0.085907          3.243710e-03   \n",
      "avg_glucose_level                        -0.110172          1.838777e-04   \n",
      "bmi                                      -0.459784          3.120000e-03   \n",
      "gender_Female                            -0.093270          4.934082e-03   \n",
      "gender_Male                               0.093080         -4.934461e-03   \n",
      "gender_Other                              0.007183          7.972705e-07   \n",
      "ever_married_No                           0.546352          1.037562e-03   \n",
      "ever_married_Yes                         -0.546352         -1.037562e-03   \n",
      "work_type_Govt_job                       -0.154537          4.365258e-03   \n",
      "work_type_Never_worked                   -0.026699         -3.221328e-03   \n",
      "work_type_Private                        -0.477684         -9.154770e-03   \n",
      "work_type_Self-employed                  -0.174531          7.481396e-03   \n",
      "work_type_children                        1.000000          1.719980e-03   \n",
      "Residence_type_Rural                      0.001720          1.000000e+00   \n",
      "Residence_type_Urban                     -0.001720         -1.000000e+00   \n",
      "smoking_status_formerly smoked           -0.166376          7.905877e-03   \n",
      "smoking_status_never smoked              -0.246296         -4.461418e-04   \n",
      "smoking_status_smokes                    -0.169414         -9.458842e-03   \n",
      "stroke                                   -0.050728         -2.654330e-03   \n",
      "\n",
      "                                Residence_type_Urban  \\\n",
      "id                                      4.717175e-04   \n",
      "age                                    -1.906562e-03   \n",
      "hypertension                           -1.805894e-03   \n",
      "heart_disease                          -3.243710e-03   \n",
      "avg_glucose_level                      -1.838777e-04   \n",
      "bmi                                    -3.120000e-03   \n",
      "gender_Female                          -4.934082e-03   \n",
      "gender_Male                             4.934461e-03   \n",
      "gender_Other                           -7.972705e-07   \n",
      "ever_married_No                        -1.037562e-03   \n",
      "ever_married_Yes                        1.037562e-03   \n",
      "work_type_Govt_job                     -4.365258e-03   \n",
      "work_type_Never_worked                  3.221328e-03   \n",
      "work_type_Private                       9.154770e-03   \n",
      "work_type_Self-employed                -7.481396e-03   \n",
      "work_type_children                     -1.719980e-03   \n",
      "Residence_type_Rural                   -1.000000e+00   \n",
      "Residence_type_Urban                    1.000000e+00   \n",
      "smoking_status_formerly smoked         -7.905877e-03   \n",
      "smoking_status_never smoked             4.461418e-04   \n",
      "smoking_status_smokes                   9.458842e-03   \n",
      "stroke                                  2.654330e-03   \n",
      "\n",
      "                                smoking_status_formerly smoked  \\\n",
      "id                                                    0.013669   \n",
      "age                                                   0.245370   \n",
      "hypertension                                          0.071041   \n",
      "heart_disease                                         0.086410   \n",
      "avg_glucose_level                                     0.078463   \n",
      "bmi                                                   0.123589   \n",
      "gender_Female                                        -0.038953   \n",
      "gender_Male                                           0.038309   \n",
      "gender_Other                                          0.023733   \n",
      "ever_married_No                                      -0.175230   \n",
      "ever_married_Yes                                      0.175230   \n",
      "work_type_Govt_job                                    0.025787   \n",
      "work_type_Never_worked                               -0.020657   \n",
      "work_type_Private                                     0.042335   \n",
      "work_type_Self-employed                               0.084517   \n",
      "work_type_children                                   -0.166376   \n",
      "Residence_type_Rural                                  0.007906   \n",
      "Residence_type_Urban                                 -0.007906   \n",
      "smoking_status_formerly smoked                        1.000000   \n",
      "smoking_status_never smoked                          -0.349445   \n",
      "smoking_status_smokes                                -0.187812   \n",
      "stroke                                                0.034092   \n",
      "\n",
      "                                smoking_status_never smoked  \\\n",
      "id                                                -0.004893   \n",
      "age                                                0.122329   \n",
      "hypertension                                       0.047176   \n",
      "heart_disease                                     -0.030749   \n",
      "avg_glucose_level                                  0.017674   \n",
      "bmi                                                0.119553   \n",
      "gender_Female                                      0.104729   \n",
      "gender_Male                                       -0.104579   \n",
      "gender_Other                                      -0.005771   \n",
      "ever_married_No                                   -0.108771   \n",
      "ever_married_Yes                                   0.108771   \n",
      "work_type_Govt_job                                 0.046319   \n",
      "work_type_Never_worked                             0.018112   \n",
      "work_type_Private                                  0.123799   \n",
      "work_type_Self-employed                            0.024904   \n",
      "work_type_children                                -0.246296   \n",
      "Residence_type_Rural                              -0.000446   \n",
      "Residence_type_Urban                               0.000446   \n",
      "smoking_status_formerly smoked                    -0.349445   \n",
      "smoking_status_never smoked                        1.000000   \n",
      "smoking_status_smokes                             -0.323327   \n",
      "stroke                                             0.009896   \n",
      "\n",
      "                                smoking_status_smokes    stroke  \n",
      "id                                           0.016324  0.000691  \n",
      "age                                          0.077457  0.148722  \n",
      "hypertension                                 0.027006  0.084019  \n",
      "heart_disease                                0.036895  0.104625  \n",
      "avg_glucose_level                            0.024154  0.076813  \n",
      "bmi                                          0.071266  0.020574  \n",
      "gender_Female                               -0.022705 -0.008727  \n",
      "gender_Male                                  0.022858  0.008774  \n",
      "gender_Other                                -0.005575 -0.001673  \n",
      "ever_married_No                             -0.104110 -0.066403  \n",
      "ever_married_Yes                             0.104110  0.066403  \n",
      "work_type_Govt_job                           0.025657 -0.004439  \n",
      "work_type_Never_worked                      -0.021892 -0.008127  \n",
      "work_type_Private                            0.101308 -0.004937  \n",
      "work_type_Self-employed                      0.006790  0.061883  \n",
      "work_type_children                          -0.169414 -0.050728  \n",
      "Residence_type_Rural                        -0.009459 -0.002654  \n",
      "Residence_type_Urban                         0.009459  0.002654  \n",
      "smoking_status_formerly smoked              -0.187812  0.034092  \n",
      "smoking_status_never smoked                 -0.323327  0.009896  \n",
      "smoking_status_smokes                        1.000000  0.008489  \n",
      "stroke                                       0.008489  1.000000  \n",
      "\n",
      "[22 rows x 22 columns]\n"
     ]
    },
    {
     "data": {
      "image/png": "[encoded data removed]",
      "text/plain": [
       "<Figure size 640x480 with 2 Axes>"
      ]
     },
     "metadata": {},
     "output_type": "display_data"
    }
   ],
   "source": [
    "print(data.corr(numeric_only=True))\n",
    "\n",
    "# Plotting correlation heatmap\n",
    "dataplot = sns.heatmap(data.corr(numeric_only=True), cmap=\"YlGnBu\", annot=False)\n",
    "\n",
    "plt.show()"
   ]
  },
  {
   "cell_type": "markdown",
   "metadata": {},
   "source": [
    "### 1.4 Beschrijf de belangrijkste bevindingen van de EDA"
   ]
  },
  {
   "cell_type": "markdown",
   "metadata": {},
   "source": []
  },
  {
   "cell_type": "markdown",
   "metadata": {},
   "source": [
    "### 1.5 Sommige regels en/of kolommen zijn soms niet relevant voor machine learning. Schoon de data op zodat alleen relevante regels resteren"
   ]
  },
  {
   "cell_type": "code",
   "execution_count": null,
   "metadata": {},
   "outputs": [],
   "source": []
  },
  {
   "cell_type": "markdown",
   "metadata": {},
   "source": [
    "### 1.6 Beschrijf wat wordt bedoeld met het standaardiseren van de data. Geef aan in welke gevallen dit gewenst is. Beargumenteer of het waarde toevoegt voor deze dataset en voer eventueel standaardisatie uit"
   ]
  },
  {
   "cell_type": "markdown",
   "metadata": {},
   "source": []
  },
  {
   "cell_type": "markdown",
   "metadata": {},
   "source": [
    "# 2. Evaluatie"
   ]
  },
  {
   "cell_type": "markdown",
   "metadata": {},
   "source": [
    "### 2.1 Geef aan met welke “metrics”, voor deze vorm van machine learning, bepaalt kan worden hoe goed een model presteert. Toon de uitkomsten op deze metrics aan de hand van een zelf te kiezen machine learning algoritm"
   ]
  },
  {
   "cell_type": "code",
   "execution_count": null,
   "metadata": {},
   "outputs": [],
   "source": []
  },
  {
   "cell_type": "markdown",
   "metadata": {},
   "source": [
    "### 2.2 Leg uit hoe iedere metric wordt berekend. Gebruik hierbij een confusion matrix"
   ]
  },
  {
   "cell_type": "code",
   "execution_count": null,
   "metadata": {},
   "outputs": [],
   "source": []
  },
  {
   "cell_type": "markdown",
   "metadata": {},
   "source": [
    "### 2.3 In de Kaggle competitie zie je dat er is gekozen voor de f1-score om te beoordelen hoe goed een model presteert. Leg uit waarom f1-score voor dit vraagstuk de beste maatstaf is"
   ]
  },
  {
   "cell_type": "markdown",
   "metadata": {},
   "source": []
  },
  {
   "cell_type": "markdown",
   "metadata": {},
   "source": [
    "# 3. Modelleren en uitleg modellen"
   ]
  },
  {
   "cell_type": "markdown",
   "metadata": {},
   "source": [
    "Pas cross-validation en hyperparameter tuning toe op ieder model.\n",
    "\n",
    "Als je de beste hyperparameters voor een model hebt gevonden dan pas je het model met die hyperparameters toe op test.csv. De voorspellingen upload je op Kaggle om te zien hoe goed een model presteert.\n",
    "\n",
    "De dataset is een “imbalanced dataset”. Leg uit waarom dit zo is. Er zijn meerdere technieken waarmee je voorspellingen voor zo’n dataset kunt verbeteren. Zonder toepassingvan deze technieken zullen je voorspellingen erg slecht zijn. Pas voor alle modellen ensembles minimaal 2 van deze technieken toe en leg uit hoe iedere techniek werk"
   ]
  },
  {
   "cell_type": "markdown",
   "metadata": {},
   "source": [
    "## 3.1 KNN"
   ]
  },
  {
   "cell_type": "markdown",
   "metadata": {},
   "source": [
    "#### 3.1.1 Leg uit hoe model werkt. Gebruik daarin onder andere termen “afstand”, “euclidean” en “manhattan"
   ]
  },
  {
   "cell_type": "markdown",
   "metadata": {},
   "source": []
  },
  {
   "cell_type": "markdown",
   "metadata": {},
   "source": [
    "### 3.1.2 Leg uit waarom standaardisatie voor dit model van groot belang"
   ]
  },
  {
   "cell_type": "markdown",
   "metadata": {},
   "source": []
  },
  {
   "cell_type": "markdown",
   "metadata": {},
   "source": [
    "### 3.1.3 Bepaal bij welke hyperparameters het model de beste resultaten geeft op degekozen metric"
   ]
  },
  {
   "cell_type": "markdown",
   "metadata": {},
   "source": []
  },
  {
   "cell_type": "markdown",
   "metadata": {},
   "source": [
    "### 3.1.4 Leg uit hoe regularisatie werkt voor dit model"
   ]
  },
  {
   "cell_type": "code",
   "execution_count": null,
   "metadata": {},
   "outputs": [],
   "source": []
  },
  {
   "cell_type": "markdown",
   "metadata": {},
   "source": [
    "## 3.2 Logistic Regression"
   ]
  },
  {
   "cell_type": "code",
   "execution_count": null,
   "metadata": {},
   "outputs": [],
   "source": []
  },
  {
   "cell_type": "markdown",
   "metadata": {},
   "source": [
    "### 3.2.1 Leg uit hoe het model werkt"
   ]
  },
  {
   "cell_type": "markdown",
   "metadata": {},
   "source": []
  },
  {
   "cell_type": "markdown",
   "metadata": {},
   "source": [
    "### 3.2.2 Toon de wiskundig formule voor de loss-functie en ligt deze toe"
   ]
  },
  {
   "cell_type": "markdown",
   "metadata": {},
   "source": []
  },
  {
   "cell_type": "markdown",
   "metadata": {},
   "source": [
    "### 3.2.3 Leg uit wat gradient descent is in deze context. Leg dit uit aan de hand van een eenvoudig rekenvoorbeeld en geef hierbij de relevant wiskundige formules"
   ]
  },
  {
   "cell_type": "markdown",
   "metadata": {},
   "source": []
  },
  {
   "cell_type": "markdown",
   "metadata": {},
   "source": [
    "### 3.2.4 Benoem de vormen van regularisatie die van toepassing zijn op dit model. Leg aan de hand van wiskundige formules uit hoe iedere vorm werkt en wat het effect is van iedere vorm"
   ]
  },
  {
   "cell_type": "markdown",
   "metadata": {},
   "source": []
  },
  {
   "cell_type": "markdown",
   "metadata": {},
   "source": [
    "### 3.2.5 Beschrijf hoe regularisatie zich verhoudt ten opzichte van overfitting"
   ]
  },
  {
   "cell_type": "markdown",
   "metadata": {},
   "source": []
  },
  {
   "cell_type": "markdown",
   "metadata": {},
   "source": [
    "### 3.2.6 Bepaal bij welke hyperparameters het model de beste resultaten geeft op degekozen metric"
   ]
  },
  {
   "cell_type": "markdown",
   "metadata": {},
   "source": []
  },
  {
   "cell_type": "markdown",
   "metadata": {},
   "source": [
    "## 3.3 SVM"
   ]
  },
  {
   "cell_type": "code",
   "execution_count": null,
   "metadata": {},
   "outputs": [],
   "source": []
  },
  {
   "cell_type": "markdown",
   "metadata": {},
   "source": [
    "### 3.3.1 Beschrijf de werking van dit model. Toon hierbij de relevante wiskundige formules en leg ze uit aan de hand van een rekenvoorbeeld. Gebruik hierbij een klein deel van de dataset. Leg ook uit wat een kernel is en wat de kernel trick is"
   ]
  },
  {
   "cell_type": "markdown",
   "metadata": {},
   "source": []
  },
  {
   "cell_type": "markdown",
   "metadata": {},
   "source": [
    "### 3.3.2 Toon de wiskundig formule voor de loss functie en ligt deze toe"
   ]
  },
  {
   "cell_type": "markdown",
   "metadata": {},
   "source": []
  },
  {
   "cell_type": "markdown",
   "metadata": {},
   "source": [
    "### 3.3.3 Benoem de vormen van regularisatie die van toepassing zijn op dit model. Leg aan de hand van wiskundige formules uit hoe iedere vorm werkt en wat het effect is van iedere vorm"
   ]
  },
  {
   "cell_type": "markdown",
   "metadata": {},
   "source": []
  },
  {
   "cell_type": "markdown",
   "metadata": {},
   "source": [
    "### 3.3.4 Bepaal bij welke hyperparameters het model de beste resultaten geeft op degekozen metric"
   ]
  },
  {
   "cell_type": "markdown",
   "metadata": {},
   "source": []
  },
  {
   "cell_type": "markdown",
   "metadata": {},
   "source": [
    "## 3.4 Decision Tree"
   ]
  },
  {
   "cell_type": "code",
   "execution_count": null,
   "metadata": {},
   "outputs": [],
   "source": []
  },
  {
   "cell_type": "markdown",
   "metadata": {},
   "source": [
    "### 3.4.1 Beschrijf de werking van dit model"
   ]
  },
  {
   "cell_type": "markdown",
   "metadata": {},
   "source": []
  },
  {
   "cell_type": "markdown",
   "metadata": {},
   "source": [
    "### 3.4.2 Beschrijf de criteria op basis waarvan de splitsingen in de beslisboon kunnen worden gemaakt"
   ]
  },
  {
   "cell_type": "markdown",
   "metadata": {},
   "source": []
  },
  {
   "cell_type": "markdown",
   "metadata": {},
   "source": [
    "### 3.4.3 Bepaal bij welke hyperparameters het model de beste resultaten geeft op degekozen metric"
   ]
  },
  {
   "cell_type": "markdown",
   "metadata": {},
   "source": []
  },
  {
   "cell_type": "markdown",
   "metadata": {},
   "source": [
    "### 3.4.4 Leg uit wat ‘pruning’ is en beschrijf welke vormen hiervan zijn toegepast. Leg de relatie tussen ‘pruning’ en ‘underfitting / overfitting’ uit"
   ]
  },
  {
   "cell_type": "markdown",
   "metadata": {},
   "source": []
  },
  {
   "cell_type": "markdown",
   "metadata": {},
   "source": [
    "## 3.5 Ensembles  (Random Forest, Gradient Boosted Boosted Decistion Trees en XGboost)"
   ]
  },
  {
   "cell_type": "code",
   "execution_count": null,
   "metadata": {},
   "outputs": [],
   "source": []
  },
  {
   "cell_type": "markdown",
   "metadata": {},
   "source": [
    "### 3.5.1 Beschrijf de werking van de 3 genoemde ensembles. Gebruik daarbij o.a. de termen “bagging (bootstrap aggregation)” en “boosting “. Leg daarbij uit welke ensembles relatief veel trainingstijd nodig hebben en welke weinig tijd. Gebruik daarbij o.a. de termen “sequential” en “parallel\""
   ]
  },
  {
   "cell_type": "markdown",
   "metadata": {},
   "source": []
  },
  {
   "cell_type": "markdown",
   "metadata": {},
   "source": [
    "### 3.5.2 Bepaal bij welke hyperparameters ieder ensemble de beste resultaten geeft op de gekozen metric."
   ]
  },
  {
   "cell_type": "markdown",
   "metadata": {},
   "source": []
  },
  {
   "cell_type": "markdown",
   "metadata": {},
   "source": [
    "## 3.6 Zelf samengesteld ensemble"
   ]
  },
  {
   "cell_type": "markdown",
   "metadata": {},
   "source": [
    "Ensemble dient te bestaan uit minimaal drie modellen"
   ]
  },
  {
   "cell_type": "code",
   "execution_count": null,
   "metadata": {},
   "outputs": [],
   "source": []
  },
  {
   "cell_type": "markdown",
   "metadata": {},
   "source": [
    "### 3.6.1 Leg uit hoe een ensemble werkt en beschrijf welke vorm van “voting” je hebtgekozen en waarom"
   ]
  },
  {
   "cell_type": "markdown",
   "metadata": {},
   "source": []
  },
  {
   "cell_type": "markdown",
   "metadata": {},
   "source": [
    "### 3.6.2 Leg uit waarom je hebt gekozen voor de modellen in je ensemble"
   ]
  },
  {
   "cell_type": "markdown",
   "metadata": {},
   "source": []
  },
  {
   "cell_type": "markdown",
   "metadata": {},
   "source": [
    "### 3.6.3 Bepaal bij welke hyperparameters het model de beste resultaten geeft op degekozen metric"
   ]
  },
  {
   "cell_type": "markdown",
   "metadata": {},
   "source": []
  },
  {
   "cell_type": "markdown",
   "metadata": {},
   "source": [
    "# 4. Conclusie en advies"
   ]
  },
  {
   "cell_type": "markdown",
   "metadata": {},
   "source": [
    "### 4.1 Geef in een tabel een overzicht van de scores van alle toegepaste modellen en ensembles. Laat daarin van ieder model en ensemble zien hoe het presteerde in je notebook en op Kaggle"
   ]
  },
  {
   "cell_type": "markdown",
   "metadata": {},
   "source": []
  },
  {
   "cell_type": "markdown",
   "metadata": {},
   "source": [
    "### 4.2 Welke model presteert het beste? Waarom? Bij welke parameters?"
   ]
  },
  {
   "cell_type": "markdown",
   "metadata": {},
   "source": []
  },
  {
   "cell_type": "markdown",
   "metadata": {},
   "source": [
    "### 4.3 De prestaties van een model zijn belangrijk. Welke overwegingen spelen nog meer een rol, naast de prestaties van het model, om een juiste keuze voor een model te maken"
   ]
  },
  {
   "cell_type": "markdown",
   "metadata": {},
   "source": []
  },
  {
   "cell_type": "markdown",
   "metadata": {},
   "source": [
    "### 4.4 Welke model adviseer je aan artsen om te gebruiken? Leg uit waarom?"
   ]
  },
  {
   "cell_type": "markdown",
   "metadata": {},
   "source": []
  }
 ],
 "metadata": {
  "kernelspec": {
   "display_name": "Python 3",
   "language": "python",
   "name": "python3"
  },
  "language_info": {
   "codemirror_mode": {
    "name": "ipython",
    "version": 3
   },
   "file_extension": ".py",
   "mimetype": "text/x-python",
   "name": "python",
   "nbconvert_exporter": "python",
   "pygments_lexer": "ipython3",
   "version": "3.11.4"
  }
 },
 "nbformat": 4,
 "nbformat_minor": 2
}
